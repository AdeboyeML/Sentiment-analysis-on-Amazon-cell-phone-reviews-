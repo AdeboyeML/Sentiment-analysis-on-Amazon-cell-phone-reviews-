{
 "cells": [
  {
   "cell_type": "markdown",
   "metadata": {},
   "source": [
    "## Sentiment analysis on Amazon cell phone reviews \n",
    "\n",
    "***The aim of the above-mentioned project is to perform sentiment analysis on the customer reviews based off the cell phones that are bought by the customers on Amazon i.e. determine cell phone review sentiment (is the customer angry or happy with phone)***\n",
    "\n",
    "***Here, we will use the star rating and the customer's review to primarily classify the customer's sentiment towards the phone bought***"
   ]
  },
  {
   "cell_type": "markdown",
   "metadata": {},
   "source": [
    "## Context\n",
    "\n",
    " The project is aimed towards performing sentiment analysis using Amazon customer reviews on cell phones. The dataset focuses on both unlocked and locked carriers, and scoped on ten brands: ASUS, Apple, Google, HUAWEI, Motorola, Nokia, OnePlus, Samsung, Sony, and Xiaomi.\n",
    "\n",
    "Content\n",
    "Published here are two files, items.csv and reviews.csv with a date prefixed which indicates when the data is retrieved.\n",
    "\n",
    "items.csv contains retrieved (read: scraped) items from Amazon.com search results using generated URL and specific query string to search only specific brands and has minimal 1 star review.\n",
    "\n",
    "reviews.csv contains reviews for previously retrieved items at items.csv but not with columns from items.csv.\n",
    "\n",
    "The dataset can be found on [kaggle](https://www.kaggle.com/grikomsn/amazon-cell-phones-reviews)"
   ]
  },
  {
   "cell_type": "markdown",
   "metadata": {},
   "source": [
    "## Tasks\n",
    "\n",
    "- Data Exploration\n",
    "\n",
    "- Data preprocessing\n",
    "\n",
    "- Implementation and Evaluation of Models (Naive Bayes, SVM, Logistic Regression)"
   ]
  },
  {
   "cell_type": "code",
   "execution_count": null,
   "metadata": {},
   "outputs": [],
   "source": []
  },
  {
   "cell_type": "markdown",
   "metadata": {},
   "source": [
    "## Data Exploration"
   ]
  },
  {
   "cell_type": "code",
   "execution_count": 1,
   "metadata": {},
   "outputs": [],
   "source": [
    "import pandas as pd\n",
    "import numpy as np\n",
    "import seaborn as sns\n",
    "import matplotlib.pyplot as plt\n",
    "%matplotlib inline\n",
    "\n",
    "#ignore harmless warnings\n",
    "import warnings\n",
    "warnings.filterwarnings('ignore')"
   ]
  },
  {
   "cell_type": "code",
   "execution_count": 2,
   "metadata": {},
   "outputs": [],
   "source": [
    "#items dataframe contains the phone brand reviewed by user but doesnot contain the review\n",
    "#'asin' column is specific for a particular phone \n",
    "\n",
    "items = pd.read_csv('20190928-items.csv').set_index('asin')"
   ]
  },
  {
   "cell_type": "code",
   "execution_count": 3,
   "metadata": {},
   "outputs": [
    {
     "data": {
      "text/plain": [
       "(792, 8)"
      ]
     },
     "execution_count": 3,
     "metadata": {},
     "output_type": "execute_result"
    }
   ],
   "source": [
    "items.shape"
   ]
  },
  {
   "cell_type": "code",
   "execution_count": 4,
   "metadata": {},
   "outputs": [
    {
     "data": {
      "text/html": [
       "<div>\n",
       "<style scoped>\n",
       "    .dataframe tbody tr th:only-of-type {\n",
       "        vertical-align: middle;\n",
       "    }\n",
       "\n",
       "    .dataframe tbody tr th {\n",
       "        vertical-align: top;\n",
       "    }\n",
       "\n",
       "    .dataframe thead th {\n",
       "        text-align: right;\n",
       "    }\n",
       "</style>\n",
       "<table border=\"1\" class=\"dataframe\">\n",
       "  <thead>\n",
       "    <tr style=\"text-align: right;\">\n",
       "      <th></th>\n",
       "      <th>brand</th>\n",
       "      <th>title</th>\n",
       "      <th>url</th>\n",
       "      <th>image</th>\n",
       "      <th>rating</th>\n",
       "      <th>reviewUrl</th>\n",
       "      <th>totalReviews</th>\n",
       "      <th>prices</th>\n",
       "    </tr>\n",
       "    <tr>\n",
       "      <th>asin</th>\n",
       "      <th></th>\n",
       "      <th></th>\n",
       "      <th></th>\n",
       "      <th></th>\n",
       "      <th></th>\n",
       "      <th></th>\n",
       "      <th></th>\n",
       "      <th></th>\n",
       "    </tr>\n",
       "  </thead>\n",
       "  <tbody>\n",
       "    <tr>\n",
       "      <th>B0000SX2UC</th>\n",
       "      <td>Nokia</td>\n",
       "      <td>Dual-Band / Tri-Mode Sprint PCS Phone w/ Voice...</td>\n",
       "      <td>https://www.amazon.com/Dual-Band-Tri-Mode-Acti...</td>\n",
       "      <td>https://m.media-amazon.com/images/I/2143EBQ210...</td>\n",
       "      <td>3.0</td>\n",
       "      <td>https://www.amazon.com/product-reviews/B0000SX2UC</td>\n",
       "      <td>14</td>\n",
       "      <td>NaN</td>\n",
       "    </tr>\n",
       "    <tr>\n",
       "      <th>B0009N5L7K</th>\n",
       "      <td>Motorola</td>\n",
       "      <td>Motorola I265 phone</td>\n",
       "      <td>https://www.amazon.com/Motorola-i265-I265-phon...</td>\n",
       "      <td>https://m.media-amazon.com/images/I/419WBAVDAR...</td>\n",
       "      <td>2.9</td>\n",
       "      <td>https://www.amazon.com/product-reviews/B0009N5L7K</td>\n",
       "      <td>7</td>\n",
       "      <td>$49.95</td>\n",
       "    </tr>\n",
       "    <tr>\n",
       "      <th>B000SKTZ0S</th>\n",
       "      <td>Motorola</td>\n",
       "      <td>MOTOROLA C168i AT&amp;T CINGULAR PREPAID GOPHONE C...</td>\n",
       "      <td>https://www.amazon.com/MOTOROLA-C168i-CINGULAR...</td>\n",
       "      <td>https://m.media-amazon.com/images/I/71b+q3ydkI...</td>\n",
       "      <td>2.6</td>\n",
       "      <td>https://www.amazon.com/product-reviews/B000SKTZ0S</td>\n",
       "      <td>22</td>\n",
       "      <td>NaN</td>\n",
       "    </tr>\n",
       "    <tr>\n",
       "      <th>B00198M12M</th>\n",
       "      <td>Nokia</td>\n",
       "      <td>Nokia 6500 Slide Black/silver Unlocked Cell Phone</td>\n",
       "      <td>https://www.amazon.com/Nokia-6500-Slide-silver...</td>\n",
       "      <td>https://m.media-amazon.com/images/I/41ss4HpLkL...</td>\n",
       "      <td>2.4</td>\n",
       "      <td>https://www.amazon.com/product-reviews/B00198M12M</td>\n",
       "      <td>5</td>\n",
       "      <td>NaN</td>\n",
       "    </tr>\n",
       "    <tr>\n",
       "      <th>B001AO4OUC</th>\n",
       "      <td>Motorola</td>\n",
       "      <td>Motorola i335 Cell Phone Boost Mobile</td>\n",
       "      <td>https://www.amazon.com/Motorola-i335-Phone-Boo...</td>\n",
       "      <td>https://m.media-amazon.com/images/I/710UO8gdT+...</td>\n",
       "      <td>3.3</td>\n",
       "      <td>https://www.amazon.com/product-reviews/B001AO4OUC</td>\n",
       "      <td>21</td>\n",
       "      <td>NaN</td>\n",
       "    </tr>\n",
       "  </tbody>\n",
       "</table>\n",
       "</div>"
      ],
      "text/plain": [
       "               brand                                              title  \\\n",
       "asin                                                                      \n",
       "B0000SX2UC     Nokia  Dual-Band / Tri-Mode Sprint PCS Phone w/ Voice...   \n",
       "B0009N5L7K  Motorola                                Motorola I265 phone   \n",
       "B000SKTZ0S  Motorola  MOTOROLA C168i AT&T CINGULAR PREPAID GOPHONE C...   \n",
       "B00198M12M     Nokia  Nokia 6500 Slide Black/silver Unlocked Cell Phone   \n",
       "B001AO4OUC  Motorola              Motorola i335 Cell Phone Boost Mobile   \n",
       "\n",
       "                                                          url  \\\n",
       "asin                                                            \n",
       "B0000SX2UC  https://www.amazon.com/Dual-Band-Tri-Mode-Acti...   \n",
       "B0009N5L7K  https://www.amazon.com/Motorola-i265-I265-phon...   \n",
       "B000SKTZ0S  https://www.amazon.com/MOTOROLA-C168i-CINGULAR...   \n",
       "B00198M12M  https://www.amazon.com/Nokia-6500-Slide-silver...   \n",
       "B001AO4OUC  https://www.amazon.com/Motorola-i335-Phone-Boo...   \n",
       "\n",
       "                                                        image  rating  \\\n",
       "asin                                                                    \n",
       "B0000SX2UC  https://m.media-amazon.com/images/I/2143EBQ210...     3.0   \n",
       "B0009N5L7K  https://m.media-amazon.com/images/I/419WBAVDAR...     2.9   \n",
       "B000SKTZ0S  https://m.media-amazon.com/images/I/71b+q3ydkI...     2.6   \n",
       "B00198M12M  https://m.media-amazon.com/images/I/41ss4HpLkL...     2.4   \n",
       "B001AO4OUC  https://m.media-amazon.com/images/I/710UO8gdT+...     3.3   \n",
       "\n",
       "                                                    reviewUrl  totalReviews  \\\n",
       "asin                                                                          \n",
       "B0000SX2UC  https://www.amazon.com/product-reviews/B0000SX2UC            14   \n",
       "B0009N5L7K  https://www.amazon.com/product-reviews/B0009N5L7K             7   \n",
       "B000SKTZ0S  https://www.amazon.com/product-reviews/B000SKTZ0S            22   \n",
       "B00198M12M  https://www.amazon.com/product-reviews/B00198M12M             5   \n",
       "B001AO4OUC  https://www.amazon.com/product-reviews/B001AO4OUC            21   \n",
       "\n",
       "            prices  \n",
       "asin                \n",
       "B0000SX2UC     NaN  \n",
       "B0009N5L7K  $49.95  \n",
       "B000SKTZ0S     NaN  \n",
       "B00198M12M     NaN  \n",
       "B001AO4OUC     NaN  "
      ]
     },
     "execution_count": 4,
     "metadata": {},
     "output_type": "execute_result"
    }
   ],
   "source": [
    "items.head()"
   ]
  },
  {
   "cell_type": "code",
   "execution_count": 5,
   "metadata": {},
   "outputs": [
    {
     "data": {
      "text/plain": [
       "array([3. , 2.9, 2.6, 2.4, 3.3, 3.2, 2. , 2.7, 3.5, 2.8, 3.4, 3.1, 4. ,\n",
       "       2.5, 3.6, 1. , 3.7, 3.8, 3.9, 4.1, 2.3, 4.2, 4.6, 4.5, 5. , 2.2,\n",
       "       4.4, 2.1, 4.3, 4.7, 1.8, 4.8])"
      ]
     },
     "execution_count": 5,
     "metadata": {},
     "output_type": "execute_result"
    }
   ],
   "source": [
    "#the unique rating for each phone brand in 'items dataframe'\n",
    "\n",
    "items.rating.unique()"
   ]
  },
  {
   "cell_type": "code",
   "execution_count": 6,
   "metadata": {},
   "outputs": [
    {
     "data": {
      "text/plain": [
       "4.0    62\n",
       "3.8    59\n",
       "3.9    58\n",
       "3.6    56\n",
       "3.5    54\n",
       "3.7    51\n",
       "3.4    46\n",
       "4.2    42\n",
       "3.2    40\n",
       "3.0    38\n",
       "4.1    32\n",
       "3.3    31\n",
       "3.1    26\n",
       "5.0    25\n",
       "2.9    24\n",
       "4.3    21\n",
       "4.4    21\n",
       "4.5    17\n",
       "2.8    15\n",
       "1.0    12\n",
       "2.0    12\n",
       "4.6    11\n",
       "2.6    10\n",
       "2.7     7\n",
       "2.4     5\n",
       "2.5     5\n",
       "4.7     3\n",
       "2.3     3\n",
       "2.1     2\n",
       "4.8     2\n",
       "2.2     1\n",
       "1.8     1\n",
       "Name: rating, dtype: int64"
      ]
     },
     "execution_count": 6,
     "metadata": {},
     "output_type": "execute_result"
    }
   ],
   "source": [
    "items.rating.value_counts()"
   ]
  },
  {
   "cell_type": "code",
   "execution_count": 7,
   "metadata": {},
   "outputs": [],
   "source": [
    "#lets change the rating name to average rating of review for each review\n",
    "\n",
    "items['average_rating'] = items.rating\n",
    "items = items.drop('rating', axis = 1)\n"
   ]
  },
  {
   "cell_type": "code",
   "execution_count": 8,
   "metadata": {},
   "outputs": [
    {
     "data": {
      "text/html": [
       "<div>\n",
       "<style scoped>\n",
       "    .dataframe tbody tr th:only-of-type {\n",
       "        vertical-align: middle;\n",
       "    }\n",
       "\n",
       "    .dataframe tbody tr th {\n",
       "        vertical-align: top;\n",
       "    }\n",
       "\n",
       "    .dataframe thead th {\n",
       "        text-align: right;\n",
       "    }\n",
       "</style>\n",
       "<table border=\"1\" class=\"dataframe\">\n",
       "  <thead>\n",
       "    <tr style=\"text-align: right;\">\n",
       "      <th></th>\n",
       "      <th>brand</th>\n",
       "      <th>title</th>\n",
       "      <th>url</th>\n",
       "      <th>image</th>\n",
       "      <th>reviewUrl</th>\n",
       "      <th>totalReviews</th>\n",
       "      <th>prices</th>\n",
       "      <th>average_rating</th>\n",
       "    </tr>\n",
       "    <tr>\n",
       "      <th>asin</th>\n",
       "      <th></th>\n",
       "      <th></th>\n",
       "      <th></th>\n",
       "      <th></th>\n",
       "      <th></th>\n",
       "      <th></th>\n",
       "      <th></th>\n",
       "      <th></th>\n",
       "    </tr>\n",
       "  </thead>\n",
       "  <tbody>\n",
       "    <tr>\n",
       "      <th>B0000SX2UC</th>\n",
       "      <td>Nokia</td>\n",
       "      <td>Dual-Band / Tri-Mode Sprint PCS Phone w/ Voice...</td>\n",
       "      <td>https://www.amazon.com/Dual-Band-Tri-Mode-Acti...</td>\n",
       "      <td>https://m.media-amazon.com/images/I/2143EBQ210...</td>\n",
       "      <td>https://www.amazon.com/product-reviews/B0000SX2UC</td>\n",
       "      <td>14</td>\n",
       "      <td>NaN</td>\n",
       "      <td>3.0</td>\n",
       "    </tr>\n",
       "    <tr>\n",
       "      <th>B0009N5L7K</th>\n",
       "      <td>Motorola</td>\n",
       "      <td>Motorola I265 phone</td>\n",
       "      <td>https://www.amazon.com/Motorola-i265-I265-phon...</td>\n",
       "      <td>https://m.media-amazon.com/images/I/419WBAVDAR...</td>\n",
       "      <td>https://www.amazon.com/product-reviews/B0009N5L7K</td>\n",
       "      <td>7</td>\n",
       "      <td>$49.95</td>\n",
       "      <td>2.9</td>\n",
       "    </tr>\n",
       "  </tbody>\n",
       "</table>\n",
       "</div>"
      ],
      "text/plain": [
       "               brand                                              title  \\\n",
       "asin                                                                      \n",
       "B0000SX2UC     Nokia  Dual-Band / Tri-Mode Sprint PCS Phone w/ Voice...   \n",
       "B0009N5L7K  Motorola                                Motorola I265 phone   \n",
       "\n",
       "                                                          url  \\\n",
       "asin                                                            \n",
       "B0000SX2UC  https://www.amazon.com/Dual-Band-Tri-Mode-Acti...   \n",
       "B0009N5L7K  https://www.amazon.com/Motorola-i265-I265-phon...   \n",
       "\n",
       "                                                        image  \\\n",
       "asin                                                            \n",
       "B0000SX2UC  https://m.media-amazon.com/images/I/2143EBQ210...   \n",
       "B0009N5L7K  https://m.media-amazon.com/images/I/419WBAVDAR...   \n",
       "\n",
       "                                                    reviewUrl  totalReviews  \\\n",
       "asin                                                                          \n",
       "B0000SX2UC  https://www.amazon.com/product-reviews/B0000SX2UC            14   \n",
       "B0009N5L7K  https://www.amazon.com/product-reviews/B0009N5L7K             7   \n",
       "\n",
       "            prices  average_rating  \n",
       "asin                                \n",
       "B0000SX2UC     NaN             3.0  \n",
       "B0009N5L7K  $49.95             2.9  "
      ]
     },
     "execution_count": 8,
     "metadata": {},
     "output_type": "execute_result"
    }
   ],
   "source": [
    "items.head(2)"
   ]
  },
  {
   "cell_type": "code",
   "execution_count": 9,
   "metadata": {},
   "outputs": [],
   "source": [
    "#rev contains the reviews  by customers tht bought phone on amazon\n",
    "\n",
    "rev = pd.read_csv('20190928-reviews.csv')"
   ]
  },
  {
   "cell_type": "code",
   "execution_count": 10,
   "metadata": {},
   "outputs": [
    {
     "data": {
      "text/plain": [
       "(82815, 8)"
      ]
     },
     "execution_count": 10,
     "metadata": {},
     "output_type": "execute_result"
    }
   ],
   "source": [
    "rev.shape"
   ]
  },
  {
   "cell_type": "code",
   "execution_count": 11,
   "metadata": {},
   "outputs": [
    {
     "data": {
      "text/html": [
       "<div>\n",
       "<style scoped>\n",
       "    .dataframe tbody tr th:only-of-type {\n",
       "        vertical-align: middle;\n",
       "    }\n",
       "\n",
       "    .dataframe tbody tr th {\n",
       "        vertical-align: top;\n",
       "    }\n",
       "\n",
       "    .dataframe thead th {\n",
       "        text-align: right;\n",
       "    }\n",
       "</style>\n",
       "<table border=\"1\" class=\"dataframe\">\n",
       "  <thead>\n",
       "    <tr style=\"text-align: right;\">\n",
       "      <th></th>\n",
       "      <th>asin</th>\n",
       "      <th>name</th>\n",
       "      <th>rating</th>\n",
       "      <th>date</th>\n",
       "      <th>verified</th>\n",
       "      <th>title</th>\n",
       "      <th>body</th>\n",
       "      <th>helpfulVotes</th>\n",
       "    </tr>\n",
       "  </thead>\n",
       "  <tbody>\n",
       "    <tr>\n",
       "      <th>0</th>\n",
       "      <td>B0000SX2UC</td>\n",
       "      <td>Janet</td>\n",
       "      <td>3</td>\n",
       "      <td>October 11, 2005</td>\n",
       "      <td>False</td>\n",
       "      <td>Def not best, but not worst</td>\n",
       "      <td>I had the Samsung A600 for awhile which is abs...</td>\n",
       "      <td>1.0</td>\n",
       "    </tr>\n",
       "    <tr>\n",
       "      <th>1</th>\n",
       "      <td>B0000SX2UC</td>\n",
       "      <td>Luke Wyatt</td>\n",
       "      <td>1</td>\n",
       "      <td>January 7, 2004</td>\n",
       "      <td>False</td>\n",
       "      <td>Text Messaging Doesn't Work</td>\n",
       "      <td>Due to a software issue between Nokia and Spri...</td>\n",
       "      <td>17.0</td>\n",
       "    </tr>\n",
       "    <tr>\n",
       "      <th>2</th>\n",
       "      <td>B0000SX2UC</td>\n",
       "      <td>Brooke</td>\n",
       "      <td>5</td>\n",
       "      <td>December 30, 2003</td>\n",
       "      <td>False</td>\n",
       "      <td>Love This Phone</td>\n",
       "      <td>This is a great, reliable phone. I also purcha...</td>\n",
       "      <td>5.0</td>\n",
       "    </tr>\n",
       "    <tr>\n",
       "      <th>3</th>\n",
       "      <td>B0000SX2UC</td>\n",
       "      <td>amy m. teague</td>\n",
       "      <td>3</td>\n",
       "      <td>March 18, 2004</td>\n",
       "      <td>False</td>\n",
       "      <td>Love the Phone, BUT...!</td>\n",
       "      <td>I love the phone and all, because I really did...</td>\n",
       "      <td>1.0</td>\n",
       "    </tr>\n",
       "    <tr>\n",
       "      <th>4</th>\n",
       "      <td>B0000SX2UC</td>\n",
       "      <td>tristazbimmer</td>\n",
       "      <td>4</td>\n",
       "      <td>August 28, 2005</td>\n",
       "      <td>False</td>\n",
       "      <td>Great phone service and options, lousy case!</td>\n",
       "      <td>The phone has been great for every purpose it ...</td>\n",
       "      <td>1.0</td>\n",
       "    </tr>\n",
       "    <tr>\n",
       "      <th>5</th>\n",
       "      <td>B0000SX2UC</td>\n",
       "      <td>J. White</td>\n",
       "      <td>4</td>\n",
       "      <td>September 25, 2005</td>\n",
       "      <td>False</td>\n",
       "      <td>Worked great for me</td>\n",
       "      <td>Hello, I have this phone and used it until I d...</td>\n",
       "      <td>NaN</td>\n",
       "    </tr>\n",
       "    <tr>\n",
       "      <th>6</th>\n",
       "      <td>B0000SX2UC</td>\n",
       "      <td>the cell phone store owner</td>\n",
       "      <td>5</td>\n",
       "      <td>April 16, 2004</td>\n",
       "      <td>False</td>\n",
       "      <td>Wanna cool Nokia? You have it here!</td>\n",
       "      <td>Cool. Cheap. Color: 3 words that describe the ...</td>\n",
       "      <td>2.0</td>\n",
       "    </tr>\n",
       "    <tr>\n",
       "      <th>7</th>\n",
       "      <td>B0000SX2UC</td>\n",
       "      <td>Matt</td>\n",
       "      <td>4</td>\n",
       "      <td>April 3, 2004</td>\n",
       "      <td>False</td>\n",
       "      <td>Problem with 3588i universal headset</td>\n",
       "      <td>The 3599i is overall a nice phone, except that...</td>\n",
       "      <td>2.0</td>\n",
       "    </tr>\n",
       "    <tr>\n",
       "      <th>8</th>\n",
       "      <td>B0000SX2UC</td>\n",
       "      <td>Charles Cook</td>\n",
       "      <td>5</td>\n",
       "      <td>November 24, 2003</td>\n",
       "      <td>False</td>\n",
       "      <td>cool phone!!!!!!!!</td>\n",
       "      <td>I've never owned a Nokia phone before, so this...</td>\n",
       "      <td>7.0</td>\n",
       "    </tr>\n",
       "    <tr>\n",
       "      <th>9</th>\n",
       "      <td>B0000SX2UC</td>\n",
       "      <td>Amazon Customer</td>\n",
       "      <td>3</td>\n",
       "      <td>February 2, 2004</td>\n",
       "      <td>False</td>\n",
       "      <td>Pissed off-a little bit</td>\n",
       "      <td>ok well im in school and i need the text messa...</td>\n",
       "      <td>3.0</td>\n",
       "    </tr>\n",
       "  </tbody>\n",
       "</table>\n",
       "</div>"
      ],
      "text/plain": [
       "         asin                        name  rating                date  \\\n",
       "0  B0000SX2UC                       Janet       3    October 11, 2005   \n",
       "1  B0000SX2UC                  Luke Wyatt       1     January 7, 2004   \n",
       "2  B0000SX2UC                      Brooke       5   December 30, 2003   \n",
       "3  B0000SX2UC               amy m. teague       3      March 18, 2004   \n",
       "4  B0000SX2UC               tristazbimmer       4     August 28, 2005   \n",
       "5  B0000SX2UC                    J. White       4  September 25, 2005   \n",
       "6  B0000SX2UC  the cell phone store owner       5      April 16, 2004   \n",
       "7  B0000SX2UC                        Matt       4       April 3, 2004   \n",
       "8  B0000SX2UC                Charles Cook       5   November 24, 2003   \n",
       "9  B0000SX2UC             Amazon Customer       3    February 2, 2004   \n",
       "\n",
       "   verified                                         title  \\\n",
       "0     False                   Def not best, but not worst   \n",
       "1     False                   Text Messaging Doesn't Work   \n",
       "2     False                               Love This Phone   \n",
       "3     False                       Love the Phone, BUT...!   \n",
       "4     False  Great phone service and options, lousy case!   \n",
       "5     False                           Worked great for me   \n",
       "6     False           Wanna cool Nokia? You have it here!   \n",
       "7     False          Problem with 3588i universal headset   \n",
       "8     False                            cool phone!!!!!!!!   \n",
       "9     False                       Pissed off-a little bit   \n",
       "\n",
       "                                                body  helpfulVotes  \n",
       "0  I had the Samsung A600 for awhile which is abs...           1.0  \n",
       "1  Due to a software issue between Nokia and Spri...          17.0  \n",
       "2  This is a great, reliable phone. I also purcha...           5.0  \n",
       "3  I love the phone and all, because I really did...           1.0  \n",
       "4  The phone has been great for every purpose it ...           1.0  \n",
       "5  Hello, I have this phone and used it until I d...           NaN  \n",
       "6  Cool. Cheap. Color: 3 words that describe the ...           2.0  \n",
       "7  The 3599i is overall a nice phone, except that...           2.0  \n",
       "8  I've never owned a Nokia phone before, so this...           7.0  \n",
       "9  ok well im in school and i need the text messa...           3.0  "
      ]
     },
     "execution_count": 11,
     "metadata": {},
     "output_type": "execute_result"
    }
   ],
   "source": [
    "rev.head(10)"
   ]
  },
  {
   "cell_type": "code",
   "execution_count": 12,
   "metadata": {},
   "outputs": [],
   "source": [
    "#let change the title column_name to title_review and the body column_name to body_review in our rev dataframe\n",
    "\n",
    "rev['title_review'] = rev['title']\n",
    "rev['body_review'] = rev['body']"
   ]
  },
  {
   "cell_type": "code",
   "execution_count": 13,
   "metadata": {},
   "outputs": [
    {
     "data": {
      "text/html": [
       "<div>\n",
       "<style scoped>\n",
       "    .dataframe tbody tr th:only-of-type {\n",
       "        vertical-align: middle;\n",
       "    }\n",
       "\n",
       "    .dataframe tbody tr th {\n",
       "        vertical-align: top;\n",
       "    }\n",
       "\n",
       "    .dataframe thead th {\n",
       "        text-align: right;\n",
       "    }\n",
       "</style>\n",
       "<table border=\"1\" class=\"dataframe\">\n",
       "  <thead>\n",
       "    <tr style=\"text-align: right;\">\n",
       "      <th></th>\n",
       "      <th>asin</th>\n",
       "      <th>name</th>\n",
       "      <th>rating</th>\n",
       "      <th>date</th>\n",
       "      <th>verified</th>\n",
       "      <th>title</th>\n",
       "      <th>body</th>\n",
       "      <th>helpfulVotes</th>\n",
       "      <th>title_review</th>\n",
       "      <th>body_review</th>\n",
       "    </tr>\n",
       "  </thead>\n",
       "  <tbody>\n",
       "    <tr>\n",
       "      <th>0</th>\n",
       "      <td>B0000SX2UC</td>\n",
       "      <td>Janet</td>\n",
       "      <td>3</td>\n",
       "      <td>October 11, 2005</td>\n",
       "      <td>False</td>\n",
       "      <td>Def not best, but not worst</td>\n",
       "      <td>I had the Samsung A600 for awhile which is abs...</td>\n",
       "      <td>1.0</td>\n",
       "      <td>Def not best, but not worst</td>\n",
       "      <td>I had the Samsung A600 for awhile which is abs...</td>\n",
       "    </tr>\n",
       "    <tr>\n",
       "      <th>1</th>\n",
       "      <td>B0000SX2UC</td>\n",
       "      <td>Luke Wyatt</td>\n",
       "      <td>1</td>\n",
       "      <td>January 7, 2004</td>\n",
       "      <td>False</td>\n",
       "      <td>Text Messaging Doesn't Work</td>\n",
       "      <td>Due to a software issue between Nokia and Spri...</td>\n",
       "      <td>17.0</td>\n",
       "      <td>Text Messaging Doesn't Work</td>\n",
       "      <td>Due to a software issue between Nokia and Spri...</td>\n",
       "    </tr>\n",
       "    <tr>\n",
       "      <th>2</th>\n",
       "      <td>B0000SX2UC</td>\n",
       "      <td>Brooke</td>\n",
       "      <td>5</td>\n",
       "      <td>December 30, 2003</td>\n",
       "      <td>False</td>\n",
       "      <td>Love This Phone</td>\n",
       "      <td>This is a great, reliable phone. I also purcha...</td>\n",
       "      <td>5.0</td>\n",
       "      <td>Love This Phone</td>\n",
       "      <td>This is a great, reliable phone. I also purcha...</td>\n",
       "    </tr>\n",
       "    <tr>\n",
       "      <th>3</th>\n",
       "      <td>B0000SX2UC</td>\n",
       "      <td>amy m. teague</td>\n",
       "      <td>3</td>\n",
       "      <td>March 18, 2004</td>\n",
       "      <td>False</td>\n",
       "      <td>Love the Phone, BUT...!</td>\n",
       "      <td>I love the phone and all, because I really did...</td>\n",
       "      <td>1.0</td>\n",
       "      <td>Love the Phone, BUT...!</td>\n",
       "      <td>I love the phone and all, because I really did...</td>\n",
       "    </tr>\n",
       "    <tr>\n",
       "      <th>4</th>\n",
       "      <td>B0000SX2UC</td>\n",
       "      <td>tristazbimmer</td>\n",
       "      <td>4</td>\n",
       "      <td>August 28, 2005</td>\n",
       "      <td>False</td>\n",
       "      <td>Great phone service and options, lousy case!</td>\n",
       "      <td>The phone has been great for every purpose it ...</td>\n",
       "      <td>1.0</td>\n",
       "      <td>Great phone service and options, lousy case!</td>\n",
       "      <td>The phone has been great for every purpose it ...</td>\n",
       "    </tr>\n",
       "  </tbody>\n",
       "</table>\n",
       "</div>"
      ],
      "text/plain": [
       "         asin           name  rating               date  verified  \\\n",
       "0  B0000SX2UC          Janet       3   October 11, 2005     False   \n",
       "1  B0000SX2UC     Luke Wyatt       1    January 7, 2004     False   \n",
       "2  B0000SX2UC         Brooke       5  December 30, 2003     False   \n",
       "3  B0000SX2UC  amy m. teague       3     March 18, 2004     False   \n",
       "4  B0000SX2UC  tristazbimmer       4    August 28, 2005     False   \n",
       "\n",
       "                                          title  \\\n",
       "0                   Def not best, but not worst   \n",
       "1                   Text Messaging Doesn't Work   \n",
       "2                               Love This Phone   \n",
       "3                       Love the Phone, BUT...!   \n",
       "4  Great phone service and options, lousy case!   \n",
       "\n",
       "                                                body  helpfulVotes  \\\n",
       "0  I had the Samsung A600 for awhile which is abs...           1.0   \n",
       "1  Due to a software issue between Nokia and Spri...          17.0   \n",
       "2  This is a great, reliable phone. I also purcha...           5.0   \n",
       "3  I love the phone and all, because I really did...           1.0   \n",
       "4  The phone has been great for every purpose it ...           1.0   \n",
       "\n",
       "                                   title_review  \\\n",
       "0                   Def not best, but not worst   \n",
       "1                   Text Messaging Doesn't Work   \n",
       "2                               Love This Phone   \n",
       "3                       Love the Phone, BUT...!   \n",
       "4  Great phone service and options, lousy case!   \n",
       "\n",
       "                                         body_review  \n",
       "0  I had the Samsung A600 for awhile which is abs...  \n",
       "1  Due to a software issue between Nokia and Spri...  \n",
       "2  This is a great, reliable phone. I also purcha...  \n",
       "3  I love the phone and all, because I really did...  \n",
       "4  The phone has been great for every purpose it ...  "
      ]
     },
     "execution_count": 13,
     "metadata": {},
     "output_type": "execute_result"
    }
   ],
   "source": [
    "rev.head()"
   ]
  },
  {
   "cell_type": "code",
   "execution_count": 14,
   "metadata": {},
   "outputs": [],
   "source": [
    "#lets drop the title and body column\n",
    "rev = rev.drop(['title', 'body'], axis = 1)"
   ]
  },
  {
   "cell_type": "code",
   "execution_count": 15,
   "metadata": {},
   "outputs": [],
   "source": [
    "#lets merge the two dataframe based on the common column that both dataframe have which is 'asin'\n",
    "\n",
    "review = pd.merge(items, rev, on='asin')"
   ]
  },
  {
   "cell_type": "code",
   "execution_count": 16,
   "metadata": {},
   "outputs": [
    {
     "data": {
      "text/html": [
       "<div>\n",
       "<style scoped>\n",
       "    .dataframe tbody tr th:only-of-type {\n",
       "        vertical-align: middle;\n",
       "    }\n",
       "\n",
       "    .dataframe tbody tr th {\n",
       "        vertical-align: top;\n",
       "    }\n",
       "\n",
       "    .dataframe thead th {\n",
       "        text-align: right;\n",
       "    }\n",
       "</style>\n",
       "<table border=\"1\" class=\"dataframe\">\n",
       "  <thead>\n",
       "    <tr style=\"text-align: right;\">\n",
       "      <th></th>\n",
       "      <th>asin</th>\n",
       "      <th>brand</th>\n",
       "      <th>title</th>\n",
       "      <th>url</th>\n",
       "      <th>image</th>\n",
       "      <th>reviewUrl</th>\n",
       "      <th>totalReviews</th>\n",
       "      <th>prices</th>\n",
       "      <th>average_rating</th>\n",
       "      <th>name</th>\n",
       "      <th>rating</th>\n",
       "      <th>date</th>\n",
       "      <th>verified</th>\n",
       "      <th>helpfulVotes</th>\n",
       "      <th>title_review</th>\n",
       "      <th>body_review</th>\n",
       "    </tr>\n",
       "  </thead>\n",
       "  <tbody>\n",
       "    <tr>\n",
       "      <th>0</th>\n",
       "      <td>B0000SX2UC</td>\n",
       "      <td>Nokia</td>\n",
       "      <td>Dual-Band / Tri-Mode Sprint PCS Phone w/ Voice...</td>\n",
       "      <td>https://www.amazon.com/Dual-Band-Tri-Mode-Acti...</td>\n",
       "      <td>https://m.media-amazon.com/images/I/2143EBQ210...</td>\n",
       "      <td>https://www.amazon.com/product-reviews/B0000SX2UC</td>\n",
       "      <td>14</td>\n",
       "      <td>NaN</td>\n",
       "      <td>3.0</td>\n",
       "      <td>Janet</td>\n",
       "      <td>3</td>\n",
       "      <td>October 11, 2005</td>\n",
       "      <td>False</td>\n",
       "      <td>1.0</td>\n",
       "      <td>Def not best, but not worst</td>\n",
       "      <td>I had the Samsung A600 for awhile which is abs...</td>\n",
       "    </tr>\n",
       "    <tr>\n",
       "      <th>1</th>\n",
       "      <td>B0000SX2UC</td>\n",
       "      <td>Nokia</td>\n",
       "      <td>Dual-Band / Tri-Mode Sprint PCS Phone w/ Voice...</td>\n",
       "      <td>https://www.amazon.com/Dual-Band-Tri-Mode-Acti...</td>\n",
       "      <td>https://m.media-amazon.com/images/I/2143EBQ210...</td>\n",
       "      <td>https://www.amazon.com/product-reviews/B0000SX2UC</td>\n",
       "      <td>14</td>\n",
       "      <td>NaN</td>\n",
       "      <td>3.0</td>\n",
       "      <td>Luke Wyatt</td>\n",
       "      <td>1</td>\n",
       "      <td>January 7, 2004</td>\n",
       "      <td>False</td>\n",
       "      <td>17.0</td>\n",
       "      <td>Text Messaging Doesn't Work</td>\n",
       "      <td>Due to a software issue between Nokia and Spri...</td>\n",
       "    </tr>\n",
       "    <tr>\n",
       "      <th>2</th>\n",
       "      <td>B0000SX2UC</td>\n",
       "      <td>Nokia</td>\n",
       "      <td>Dual-Band / Tri-Mode Sprint PCS Phone w/ Voice...</td>\n",
       "      <td>https://www.amazon.com/Dual-Band-Tri-Mode-Acti...</td>\n",
       "      <td>https://m.media-amazon.com/images/I/2143EBQ210...</td>\n",
       "      <td>https://www.amazon.com/product-reviews/B0000SX2UC</td>\n",
       "      <td>14</td>\n",
       "      <td>NaN</td>\n",
       "      <td>3.0</td>\n",
       "      <td>Brooke</td>\n",
       "      <td>5</td>\n",
       "      <td>December 30, 2003</td>\n",
       "      <td>False</td>\n",
       "      <td>5.0</td>\n",
       "      <td>Love This Phone</td>\n",
       "      <td>This is a great, reliable phone. I also purcha...</td>\n",
       "    </tr>\n",
       "    <tr>\n",
       "      <th>3</th>\n",
       "      <td>B0000SX2UC</td>\n",
       "      <td>Nokia</td>\n",
       "      <td>Dual-Band / Tri-Mode Sprint PCS Phone w/ Voice...</td>\n",
       "      <td>https://www.amazon.com/Dual-Band-Tri-Mode-Acti...</td>\n",
       "      <td>https://m.media-amazon.com/images/I/2143EBQ210...</td>\n",
       "      <td>https://www.amazon.com/product-reviews/B0000SX2UC</td>\n",
       "      <td>14</td>\n",
       "      <td>NaN</td>\n",
       "      <td>3.0</td>\n",
       "      <td>amy m. teague</td>\n",
       "      <td>3</td>\n",
       "      <td>March 18, 2004</td>\n",
       "      <td>False</td>\n",
       "      <td>1.0</td>\n",
       "      <td>Love the Phone, BUT...!</td>\n",
       "      <td>I love the phone and all, because I really did...</td>\n",
       "    </tr>\n",
       "    <tr>\n",
       "      <th>4</th>\n",
       "      <td>B0000SX2UC</td>\n",
       "      <td>Nokia</td>\n",
       "      <td>Dual-Band / Tri-Mode Sprint PCS Phone w/ Voice...</td>\n",
       "      <td>https://www.amazon.com/Dual-Band-Tri-Mode-Acti...</td>\n",
       "      <td>https://m.media-amazon.com/images/I/2143EBQ210...</td>\n",
       "      <td>https://www.amazon.com/product-reviews/B0000SX2UC</td>\n",
       "      <td>14</td>\n",
       "      <td>NaN</td>\n",
       "      <td>3.0</td>\n",
       "      <td>tristazbimmer</td>\n",
       "      <td>4</td>\n",
       "      <td>August 28, 2005</td>\n",
       "      <td>False</td>\n",
       "      <td>1.0</td>\n",
       "      <td>Great phone service and options, lousy case!</td>\n",
       "      <td>The phone has been great for every purpose it ...</td>\n",
       "    </tr>\n",
       "  </tbody>\n",
       "</table>\n",
       "</div>"
      ],
      "text/plain": [
       "         asin  brand                                              title  \\\n",
       "0  B0000SX2UC  Nokia  Dual-Band / Tri-Mode Sprint PCS Phone w/ Voice...   \n",
       "1  B0000SX2UC  Nokia  Dual-Band / Tri-Mode Sprint PCS Phone w/ Voice...   \n",
       "2  B0000SX2UC  Nokia  Dual-Band / Tri-Mode Sprint PCS Phone w/ Voice...   \n",
       "3  B0000SX2UC  Nokia  Dual-Band / Tri-Mode Sprint PCS Phone w/ Voice...   \n",
       "4  B0000SX2UC  Nokia  Dual-Band / Tri-Mode Sprint PCS Phone w/ Voice...   \n",
       "\n",
       "                                                 url  \\\n",
       "0  https://www.amazon.com/Dual-Band-Tri-Mode-Acti...   \n",
       "1  https://www.amazon.com/Dual-Band-Tri-Mode-Acti...   \n",
       "2  https://www.amazon.com/Dual-Band-Tri-Mode-Acti...   \n",
       "3  https://www.amazon.com/Dual-Band-Tri-Mode-Acti...   \n",
       "4  https://www.amazon.com/Dual-Band-Tri-Mode-Acti...   \n",
       "\n",
       "                                               image  \\\n",
       "0  https://m.media-amazon.com/images/I/2143EBQ210...   \n",
       "1  https://m.media-amazon.com/images/I/2143EBQ210...   \n",
       "2  https://m.media-amazon.com/images/I/2143EBQ210...   \n",
       "3  https://m.media-amazon.com/images/I/2143EBQ210...   \n",
       "4  https://m.media-amazon.com/images/I/2143EBQ210...   \n",
       "\n",
       "                                           reviewUrl  totalReviews prices  \\\n",
       "0  https://www.amazon.com/product-reviews/B0000SX2UC            14    NaN   \n",
       "1  https://www.amazon.com/product-reviews/B0000SX2UC            14    NaN   \n",
       "2  https://www.amazon.com/product-reviews/B0000SX2UC            14    NaN   \n",
       "3  https://www.amazon.com/product-reviews/B0000SX2UC            14    NaN   \n",
       "4  https://www.amazon.com/product-reviews/B0000SX2UC            14    NaN   \n",
       "\n",
       "   average_rating           name  rating               date  verified  \\\n",
       "0             3.0          Janet       3   October 11, 2005     False   \n",
       "1             3.0     Luke Wyatt       1    January 7, 2004     False   \n",
       "2             3.0         Brooke       5  December 30, 2003     False   \n",
       "3             3.0  amy m. teague       3     March 18, 2004     False   \n",
       "4             3.0  tristazbimmer       4    August 28, 2005     False   \n",
       "\n",
       "   helpfulVotes                                  title_review  \\\n",
       "0           1.0                   Def not best, but not worst   \n",
       "1          17.0                   Text Messaging Doesn't Work   \n",
       "2           5.0                               Love This Phone   \n",
       "3           1.0                       Love the Phone, BUT...!   \n",
       "4           1.0  Great phone service and options, lousy case!   \n",
       "\n",
       "                                         body_review  \n",
       "0  I had the Samsung A600 for awhile which is abs...  \n",
       "1  Due to a software issue between Nokia and Spri...  \n",
       "2  This is a great, reliable phone. I also purcha...  \n",
       "3  I love the phone and all, because I really did...  \n",
       "4  The phone has been great for every purpose it ...  "
      ]
     },
     "execution_count": 16,
     "metadata": {},
     "output_type": "execute_result"
    }
   ],
   "source": [
    "review.head()"
   ]
  },
  {
   "cell_type": "code",
   "execution_count": 17,
   "metadata": {},
   "outputs": [],
   "source": [
    "#lets drop some columns that we are not going to analysze/use\n",
    "\n",
    "review = review.drop(['url', 'image'], axis = 1)"
   ]
  },
  {
   "cell_type": "code",
   "execution_count": 18,
   "metadata": {},
   "outputs": [
    {
     "data": {
      "text/plain": [
       "asin                  0\n",
       "brand                 0\n",
       "title                 0\n",
       "reviewUrl             0\n",
       "totalReviews          0\n",
       "prices            23670\n",
       "average_rating        0\n",
       "name                  5\n",
       "rating                0\n",
       "date                  0\n",
       "verified              0\n",
       "helpfulVotes      49681\n",
       "title_review         10\n",
       "body_review          20\n",
       "dtype: int64"
      ]
     },
     "execution_count": 18,
     "metadata": {},
     "output_type": "execute_result"
    }
   ],
   "source": [
    "#lets check for missing values\n",
    "\n",
    "review.isnull().sum()"
   ]
  },
  {
   "cell_type": "code",
   "execution_count": 19,
   "metadata": {},
   "outputs": [
    {
     "data": {
      "text/plain": [
       "array(['Nokia', 'Motorola', 'Sony', 'Samsung', 'HUAWEI', 'Apple',\n",
       "       'OnePlus', 'Google', 'ASUS', 'Xiaomi'], dtype=object)"
      ]
     },
     "execution_count": 19,
     "metadata": {},
     "output_type": "execute_result"
    }
   ],
   "source": [
    "#lets check the brands that were been reviewed by the customers\n",
    "\n",
    "review.brand.unique()"
   ]
  },
  {
   "cell_type": "code",
   "execution_count": 20,
   "metadata": {},
   "outputs": [],
   "source": [
    "#set d ratings values to integer\n",
    "\n",
    "review['rating'] = review.rating.astype(int)"
   ]
  },
  {
   "cell_type": "code",
   "execution_count": 21,
   "metadata": {},
   "outputs": [
    {
     "data": {
      "text/plain": [
       "brand\n",
       "ASUS        3.712302\n",
       "Apple       3.641032\n",
       "Google      3.636634\n",
       "HUAWEI      4.312646\n",
       "Motorola    3.774259\n",
       "Nokia       3.594792\n",
       "OnePlus     3.889876\n",
       "Samsung     3.747612\n",
       "Sony        3.716312\n",
       "Xiaomi      4.350746\n",
       "Name: rating, dtype: float64"
      ]
     },
     "execution_count": 21,
     "metadata": {},
     "output_type": "execute_result"
    }
   ],
   "source": [
    "#lets crosscheck the average rating of a phone brand by the customers for each of the phone brands\n",
    "\n",
    "review.groupby('brand').rating.mean()"
   ]
  },
  {
   "cell_type": "markdown",
   "metadata": {},
   "source": [
    "From the result above, we could see that the average rating of the reviews was between 3.5 to 4.3, which indicates that most customers were satisfied with the phone bought on Amazon. "
   ]
  },
  {
   "cell_type": "code",
   "execution_count": 22,
   "metadata": {},
   "outputs": [
    {
     "data": {
      "text/plain": [
       "Text(0, 0.5, 'Count')"
      ]
     },
     "execution_count": 22,
     "metadata": {},
     "output_type": "execute_result"
    },
    {
     "data": {
      "image/png": "[encoded data removed]",
      "text/plain": [
       "<Figure size 864x576 with 1 Axes>"
      ]
     },
     "metadata": {
      "needs_background": "light"
     },
     "output_type": "display_data"
    }
   ],
   "source": [
    "#let visualize the rating distribution among different brands\n",
    "\n",
    "font = {'family' : 'normal',\n",
    "        'weight' : 'normal',\n",
    "        'size'   : 16}\n",
    "\n",
    "plt.rc('font', **font)\n",
    "\n",
    "plt.figure(figsize=(12,8))\n",
    "sns.set_style('darkgrid')\n",
    "plt.legend(bbox_to_anchor=(1, 1), loc=2, labels = review.brand)\n",
    "\n",
    "\n",
    "labels = ['Asus', 'Apple', 'Google', 'Huawei', 'Motorola', 'Nokia', 'Oneplus', 'Samsung', 'Sony', 'Xiaomi']\n",
    "ax = sns.countplot(x = 'rating', hue = 'brand', data = review, palette= 'gnuplot_r')\n",
    "ax.legend(labels, bbox_to_anchor=(1.04,0.5), loc=\"center left\", borderaxespad=0)\n",
    "\n",
    "ax.set_xlabel(\"Rating\")\n",
    "ax.set_ylabel(\"Count\")"
   ]
  },
  {
   "cell_type": "markdown",
   "metadata": {},
   "source": [
    "From the above plot, we observe that **Huawei** has the ***best ratings and also the worst ratings among the brands.***"
   ]
  },
  {
   "cell_type": "code",
   "execution_count": 23,
   "metadata": {},
   "outputs": [],
   "source": [
    "#since the average rating from the previous item df is not in correlation with the one just calculated, we would drop it\n",
    "review = review.drop('average_rating', axis = 1)"
   ]
  },
  {
   "cell_type": "markdown",
   "metadata": {},
   "source": [
    "## Feature Engineering\n",
    "\n",
    "Feature engineering is the process of creating new features that don't exist in the data for purpose of achieving the aim of your project."
   ]
  },
  {
   "cell_type": "code",
   "execution_count": 24,
   "metadata": {},
   "outputs": [
    {
     "data": {
      "text/html": [
       "<div>\n",
       "<style scoped>\n",
       "    .dataframe tbody tr th:only-of-type {\n",
       "        vertical-align: middle;\n",
       "    }\n",
       "\n",
       "    .dataframe tbody tr th {\n",
       "        vertical-align: top;\n",
       "    }\n",
       "\n",
       "    .dataframe thead th {\n",
       "        text-align: right;\n",
       "    }\n",
       "</style>\n",
       "<table border=\"1\" class=\"dataframe\">\n",
       "  <thead>\n",
       "    <tr style=\"text-align: right;\">\n",
       "      <th></th>\n",
       "      <th>asin</th>\n",
       "      <th>brand</th>\n",
       "      <th>title</th>\n",
       "      <th>reviewUrl</th>\n",
       "      <th>totalReviews</th>\n",
       "      <th>prices</th>\n",
       "      <th>name</th>\n",
       "      <th>rating</th>\n",
       "      <th>date</th>\n",
       "      <th>verified</th>\n",
       "      <th>helpfulVotes</th>\n",
       "      <th>title_review</th>\n",
       "      <th>body_review</th>\n",
       "    </tr>\n",
       "  </thead>\n",
       "  <tbody>\n",
       "    <tr>\n",
       "      <th>52729</th>\n",
       "      <td>B0731XJ4FB</td>\n",
       "      <td>Samsung</td>\n",
       "      <td>Samsung Galaxy S7 Edge 32GB G935T for T-Mobile...</td>\n",
       "      <td>https://www.amazon.com/product-reviews/B0731XJ4FB</td>\n",
       "      <td>109</td>\n",
       "      <td>$188.95</td>\n",
       "      <td>Roberto A. Diaz</td>\n",
       "      <td>3</td>\n",
       "      <td>January 2, 2018</td>\n",
       "      <td>True</td>\n",
       "      <td>2.0</td>\n",
       "      <td>Beware</td>\n",
       "      <td>Great phone but missing two things: a working ...</td>\n",
       "    </tr>\n",
       "    <tr>\n",
       "      <th>5299</th>\n",
       "      <td>B00D99ZBR6</td>\n",
       "      <td>Samsung</td>\n",
       "      <td>Samsung Galaxy Prevail II (Boost Mobile) (Disc...</td>\n",
       "      <td>https://www.amazon.com/product-reviews/B00D99ZBR6</td>\n",
       "      <td>311</td>\n",
       "      <td>$99.00</td>\n",
       "      <td>Kristen Abel</td>\n",
       "      <td>3</td>\n",
       "      <td>January 1, 2015</td>\n",
       "      <td>True</td>\n",
       "      <td>NaN</td>\n",
       "      <td>Older and Roughed Up</td>\n",
       "      <td>Older than I expected with a few dings.</td>\n",
       "    </tr>\n",
       "    <tr>\n",
       "      <th>28953</th>\n",
       "      <td>B01COSAKMI</td>\n",
       "      <td>HUAWEI</td>\n",
       "      <td>Huawei Mate 8 NXT-L09 32GB 6-Inch 4G LTE Facto...</td>\n",
       "      <td>https://www.amazon.com/product-reviews/B01COSAKMI</td>\n",
       "      <td>19</td>\n",
       "      <td>$138.00</td>\n",
       "      <td>Max</td>\n",
       "      <td>3</td>\n",
       "      <td>January 16, 2017</td>\n",
       "      <td>True</td>\n",
       "      <td>2.0</td>\n",
       "      <td>No home button! Give me home button back! The ...</td>\n",
       "      <td>The hardware is great, But the software is mes...</td>\n",
       "    </tr>\n",
       "    <tr>\n",
       "      <th>76327</th>\n",
       "      <td>B07N91S9MW</td>\n",
       "      <td>Motorola</td>\n",
       "      <td>Moto G7 – Unlocked – 64 GB – Ceramic Black (US...</td>\n",
       "      <td>https://www.amazon.com/product-reviews/B07N91S9MW</td>\n",
       "      <td>178</td>\n",
       "      <td>$249.99,$299.99</td>\n",
       "      <td>Nicholas Hilden</td>\n",
       "      <td>3</td>\n",
       "      <td>July 28, 2019</td>\n",
       "      <td>True</td>\n",
       "      <td>1.0</td>\n",
       "      <td>Good phone with connectivity issues</td>\n",
       "      <td>Overall the phone is very nice and high qualit...</td>\n",
       "    </tr>\n",
       "    <tr>\n",
       "      <th>33317</th>\n",
       "      <td>B01FJT7E3M</td>\n",
       "      <td>Sony</td>\n",
       "      <td>Sony Xperia XA Ultra unlocked smartphone,16GB ...</td>\n",
       "      <td>https://www.amazon.com/product-reviews/B01FJT7E3M</td>\n",
       "      <td>433</td>\n",
       "      <td>NaN</td>\n",
       "      <td>Leo M</td>\n",
       "      <td>3</td>\n",
       "      <td>October 31, 2016</td>\n",
       "      <td>True</td>\n",
       "      <td>2.0</td>\n",
       "      <td>Awesome phone Slight damage</td>\n",
       "      <td>The phone came in quick,the only problem I rea...</td>\n",
       "    </tr>\n",
       "  </tbody>\n",
       "</table>\n",
       "</div>"
      ],
      "text/plain": [
       "             asin     brand  \\\n",
       "52729  B0731XJ4FB   Samsung   \n",
       "5299   B00D99ZBR6   Samsung   \n",
       "28953  B01COSAKMI    HUAWEI   \n",
       "76327  B07N91S9MW  Motorola   \n",
       "33317  B01FJT7E3M      Sony   \n",
       "\n",
       "                                                   title  \\\n",
       "52729  Samsung Galaxy S7 Edge 32GB G935T for T-Mobile...   \n",
       "5299   Samsung Galaxy Prevail II (Boost Mobile) (Disc...   \n",
       "28953  Huawei Mate 8 NXT-L09 32GB 6-Inch 4G LTE Facto...   \n",
       "76327  Moto G7 – Unlocked – 64 GB – Ceramic Black (US...   \n",
       "33317  Sony Xperia XA Ultra unlocked smartphone,16GB ...   \n",
       "\n",
       "                                               reviewUrl  totalReviews  \\\n",
       "52729  https://www.amazon.com/product-reviews/B0731XJ4FB           109   \n",
       "5299   https://www.amazon.com/product-reviews/B00D99ZBR6           311   \n",
       "28953  https://www.amazon.com/product-reviews/B01COSAKMI            19   \n",
       "76327  https://www.amazon.com/product-reviews/B07N91S9MW           178   \n",
       "33317  https://www.amazon.com/product-reviews/B01FJT7E3M           433   \n",
       "\n",
       "                prices             name  rating              date  verified  \\\n",
       "52729          $188.95  Roberto A. Diaz       3   January 2, 2018      True   \n",
       "5299            $99.00     Kristen Abel       3   January 1, 2015      True   \n",
       "28953          $138.00              Max       3  January 16, 2017      True   \n",
       "76327  $249.99,$299.99  Nicholas Hilden       3     July 28, 2019      True   \n",
       "33317              NaN            Leo M       3  October 31, 2016      True   \n",
       "\n",
       "       helpfulVotes                                       title_review  \\\n",
       "52729           2.0                                             Beware   \n",
       "5299            NaN                               Older and Roughed Up   \n",
       "28953           2.0  No home button! Give me home button back! The ...   \n",
       "76327           1.0                Good phone with connectivity issues   \n",
       "33317           2.0                        Awesome phone Slight damage   \n",
       "\n",
       "                                             body_review  \n",
       "52729  Great phone but missing two things: a working ...  \n",
       "5299             Older than I expected with a few dings.  \n",
       "28953  The hardware is great, But the software is mes...  \n",
       "76327  Overall the phone is very nice and high qualit...  \n",
       "33317  The phone came in quick,the only problem I rea...  "
      ]
     },
     "execution_count": 24,
     "metadata": {},
     "output_type": "execute_result"
    }
   ],
   "source": [
    "#notice that rating 3 is mixture of positive and negative comments as a result we are going to exclude it.\n",
    "\n",
    "review[review.rating == 3].sample(5)"
   ]
  },
  {
   "cell_type": "code",
   "execution_count": 25,
   "metadata": {},
   "outputs": [],
   "source": [
    "#lets create a new df without rating 3\n",
    "\n",
    "review = review[review.rating != 3]"
   ]
  },
  {
   "cell_type": "code",
   "execution_count": 26,
   "metadata": {},
   "outputs": [
    {
     "data": {
      "text/plain": [
       "5    45012\n",
       "1    16429\n",
       "4    10710\n",
       "2     4907\n",
       "Name: rating, dtype: int64"
      ]
     },
     "execution_count": 26,
     "metadata": {},
     "output_type": "execute_result"
    }
   ],
   "source": [
    "#lets cross-check the new review dataframe\n",
    "\n",
    "review.rating.value_counts()"
   ]
  },
  {
   "cell_type": "code",
   "execution_count": 27,
   "metadata": {},
   "outputs": [],
   "source": [
    "#lets define a new column called \"Sentiment\", where ratings less than and equal to 2 are negative sentiments; \n",
    "#while ratings 4 & 5 are said to be towards positive sentiments\n",
    "#Note that rating 3 is excluded to avoid misappropriate sentiment analysis\n",
    "\n",
    "review['sentiment'] = (review.rating >= 4).astype(int)"
   ]
  },
  {
   "cell_type": "code",
   "execution_count": 28,
   "metadata": {},
   "outputs": [
    {
     "data": {
      "text/html": [
       "<div>\n",
       "<style scoped>\n",
       "    .dataframe tbody tr th:only-of-type {\n",
       "        vertical-align: middle;\n",
       "    }\n",
       "\n",
       "    .dataframe tbody tr th {\n",
       "        vertical-align: top;\n",
       "    }\n",
       "\n",
       "    .dataframe thead th {\n",
       "        text-align: right;\n",
       "    }\n",
       "</style>\n",
       "<table border=\"1\" class=\"dataframe\">\n",
       "  <thead>\n",
       "    <tr style=\"text-align: right;\">\n",
       "      <th></th>\n",
       "      <th>asin</th>\n",
       "      <th>brand</th>\n",
       "      <th>title</th>\n",
       "      <th>reviewUrl</th>\n",
       "      <th>totalReviews</th>\n",
       "      <th>prices</th>\n",
       "      <th>name</th>\n",
       "      <th>rating</th>\n",
       "      <th>date</th>\n",
       "      <th>verified</th>\n",
       "      <th>helpfulVotes</th>\n",
       "      <th>title_review</th>\n",
       "      <th>body_review</th>\n",
       "      <th>sentiment</th>\n",
       "    </tr>\n",
       "  </thead>\n",
       "  <tbody>\n",
       "    <tr>\n",
       "      <th>3355</th>\n",
       "      <td>B009ZC91AY</td>\n",
       "      <td>Nokia</td>\n",
       "      <td>Nokia Lumia 920 32GB Unlocked 4G LTE Windows S...</td>\n",
       "      <td>https://www.amazon.com/product-reviews/B009ZC91AY</td>\n",
       "      <td>147</td>\n",
       "      <td>$89.00</td>\n",
       "      <td>Vikram Balakrishnan</td>\n",
       "      <td>5</td>\n",
       "      <td>November 20, 2012</td>\n",
       "      <td>False</td>\n",
       "      <td>7.0</td>\n",
       "      <td>A Step in the right Direction for Nokia, and a...</td>\n",
       "      <td>What Can I say, I am fairly impressed with the...</td>\n",
       "      <td>1</td>\n",
       "    </tr>\n",
       "    <tr>\n",
       "      <th>4059</th>\n",
       "      <td>B00B2BYU1Q</td>\n",
       "      <td>Nokia</td>\n",
       "      <td>Nokia Lumia 920 32GB Unlocked GSM 4G LTE Windo...</td>\n",
       "      <td>https://www.amazon.com/product-reviews/B00B2BYU1Q</td>\n",
       "      <td>575</td>\n",
       "      <td>NaN</td>\n",
       "      <td>Dean C.</td>\n",
       "      <td>4</td>\n",
       "      <td>December 14, 2014</td>\n",
       "      <td>True</td>\n",
       "      <td>NaN</td>\n",
       "      <td>I think the Lumia is a great phone and this on...</td>\n",
       "      <td>I think the Lumia is a great phone and this on...</td>\n",
       "      <td>1</td>\n",
       "    </tr>\n",
       "    <tr>\n",
       "      <th>81515</th>\n",
       "      <td>B07QZSD327</td>\n",
       "      <td>Samsung</td>\n",
       "      <td>Samsung Galaxy A30 (64GB, 4GB RAM) 6.4\" FHD+ I...</td>\n",
       "      <td>https://www.amazon.com/product-reviews/B07QZSD327</td>\n",
       "      <td>172</td>\n",
       "      <td>$203.07</td>\n",
       "      <td>Ron</td>\n",
       "      <td>5</td>\n",
       "      <td>June 25, 2019</td>\n",
       "      <td>True</td>\n",
       "      <td>NaN</td>\n",
       "      <td>excellent!</td>\n",
       "      <td>Great phone for value.</td>\n",
       "      <td>1</td>\n",
       "    </tr>\n",
       "    <tr>\n",
       "      <th>38386</th>\n",
       "      <td>B01M01YX15</td>\n",
       "      <td>Google</td>\n",
       "      <td>Google Pixel Phone - 5 inch display (Factory U...</td>\n",
       "      <td>https://www.amazon.com/product-reviews/B01M01YX15</td>\n",
       "      <td>284</td>\n",
       "      <td>$217.99</td>\n",
       "      <td>TRB</td>\n",
       "      <td>5</td>\n",
       "      <td>January 4, 2018</td>\n",
       "      <td>True</td>\n",
       "      <td>14.0</td>\n",
       "      <td>Great phone. I consider this to be an upgrade ...</td>\n",
       "      <td>Great phone. I consider this to be an upgrade ...</td>\n",
       "      <td>1</td>\n",
       "    </tr>\n",
       "    <tr>\n",
       "      <th>5373</th>\n",
       "      <td>B00DUJ6TYY</td>\n",
       "      <td>Samsung</td>\n",
       "      <td>Samsung Galaxy Mega I9152 5.8\" Android Smart P...</td>\n",
       "      <td>https://www.amazon.com/product-reviews/B00DUJ6TYY</td>\n",
       "      <td>198</td>\n",
       "      <td>NaN</td>\n",
       "      <td>Pat Carroll</td>\n",
       "      <td>4</td>\n",
       "      <td>March 18, 2015</td>\n",
       "      <td>True</td>\n",
       "      <td>2.0</td>\n",
       "      <td>Very nice phone for the money</td>\n",
       "      <td>Very nice phone but I've had a hard time getti...</td>\n",
       "      <td>1</td>\n",
       "    </tr>\n",
       "  </tbody>\n",
       "</table>\n",
       "</div>"
      ],
      "text/plain": [
       "             asin    brand                                              title  \\\n",
       "3355   B009ZC91AY    Nokia  Nokia Lumia 920 32GB Unlocked 4G LTE Windows S...   \n",
       "4059   B00B2BYU1Q    Nokia  Nokia Lumia 920 32GB Unlocked GSM 4G LTE Windo...   \n",
       "81515  B07QZSD327  Samsung  Samsung Galaxy A30 (64GB, 4GB RAM) 6.4\" FHD+ I...   \n",
       "38386  B01M01YX15   Google  Google Pixel Phone - 5 inch display (Factory U...   \n",
       "5373   B00DUJ6TYY  Samsung  Samsung Galaxy Mega I9152 5.8\" Android Smart P...   \n",
       "\n",
       "                                               reviewUrl  totalReviews  \\\n",
       "3355   https://www.amazon.com/product-reviews/B009ZC91AY           147   \n",
       "4059   https://www.amazon.com/product-reviews/B00B2BYU1Q           575   \n",
       "81515  https://www.amazon.com/product-reviews/B07QZSD327           172   \n",
       "38386  https://www.amazon.com/product-reviews/B01M01YX15           284   \n",
       "5373   https://www.amazon.com/product-reviews/B00DUJ6TYY           198   \n",
       "\n",
       "        prices                 name  rating               date  verified  \\\n",
       "3355    $89.00  Vikram Balakrishnan       5  November 20, 2012     False   \n",
       "4059       NaN              Dean C.       4  December 14, 2014      True   \n",
       "81515  $203.07                  Ron       5      June 25, 2019      True   \n",
       "38386  $217.99                  TRB       5    January 4, 2018      True   \n",
       "5373       NaN          Pat Carroll       4     March 18, 2015      True   \n",
       "\n",
       "       helpfulVotes                                       title_review  \\\n",
       "3355            7.0  A Step in the right Direction for Nokia, and a...   \n",
       "4059            NaN  I think the Lumia is a great phone and this on...   \n",
       "81515           NaN                                         excellent!   \n",
       "38386          14.0  Great phone. I consider this to be an upgrade ...   \n",
       "5373            2.0                      Very nice phone for the money   \n",
       "\n",
       "                                             body_review  sentiment  \n",
       "3355   What Can I say, I am fairly impressed with the...          1  \n",
       "4059   I think the Lumia is a great phone and this on...          1  \n",
       "81515                             Great phone for value.          1  \n",
       "38386  Great phone. I consider this to be an upgrade ...          1  \n",
       "5373   Very nice phone but I've had a hard time getti...          1  "
      ]
     },
     "execution_count": 28,
     "metadata": {},
     "output_type": "execute_result"
    }
   ],
   "source": [
    "#lets take a quick look at our df\n",
    "review.sample(5)"
   ]
  },
  {
   "cell_type": "code",
   "execution_count": 29,
   "metadata": {},
   "outputs": [
    {
     "data": {
      "text/plain": [
       "brand\n",
       "ASUS          467\n",
       "Apple       11289\n",
       "Google       3752\n",
       "HUAWEI       2855\n",
       "Motorola     8200\n",
       "Nokia        5232\n",
       "OnePlus       528\n",
       "Samsung     38877\n",
       "Sony         3076\n",
       "Xiaomi       2782\n",
       "Name: totalReviews, dtype: int64"
      ]
     },
     "execution_count": 29,
     "metadata": {},
     "output_type": "execute_result"
    }
   ],
   "source": [
    "#lets see how many reviews each brand has\n",
    "\n",
    "review.groupby('brand').totalReviews.count()"
   ]
  },
  {
   "cell_type": "markdown",
   "metadata": {},
   "source": [
    "This shows that Samsung and Apple has the highest numbers of reviews, this is directly related to the amount of people that bought these phones on amazon, this may further influence our sentiment analysis"
   ]
  },
  {
   "cell_type": "code",
   "execution_count": 30,
   "metadata": {},
   "outputs": [],
   "source": [
    "#lets drop the missing values in title and body reviews column\n",
    "\n",
    "review = review[review.title_review.notnull()]\n",
    "review = review[review.body_review.notnull()]"
   ]
  },
  {
   "cell_type": "code",
   "execution_count": 31,
   "metadata": {},
   "outputs": [
    {
     "data": {
      "text/plain": [
       "asin                0\n",
       "brand               0\n",
       "title               0\n",
       "reviewUrl           0\n",
       "totalReviews        0\n",
       "prices          21974\n",
       "name                3\n",
       "rating              0\n",
       "date                0\n",
       "verified            0\n",
       "helpfulVotes    46248\n",
       "title_review        0\n",
       "body_review         0\n",
       "sentiment           0\n",
       "dtype: int64"
      ]
     },
     "execution_count": 31,
     "metadata": {},
     "output_type": "execute_result"
    }
   ],
   "source": [
    "review.isnull().sum()"
   ]
  },
  {
   "cell_type": "code",
   "execution_count": 32,
   "metadata": {},
   "outputs": [],
   "source": [
    "#lets reformat our date column to a pandas datetime format\n",
    "\n",
    "review['date'] = pd.to_datetime(review.date)"
   ]
  },
  {
   "cell_type": "code",
   "execution_count": 33,
   "metadata": {},
   "outputs": [
    {
     "data": {
      "text/html": [
       "<div>\n",
       "<style scoped>\n",
       "    .dataframe tbody tr th:only-of-type {\n",
       "        vertical-align: middle;\n",
       "    }\n",
       "\n",
       "    .dataframe tbody tr th {\n",
       "        vertical-align: top;\n",
       "    }\n",
       "\n",
       "    .dataframe thead th {\n",
       "        text-align: right;\n",
       "    }\n",
       "</style>\n",
       "<table border=\"1\" class=\"dataframe\">\n",
       "  <thead>\n",
       "    <tr style=\"text-align: right;\">\n",
       "      <th></th>\n",
       "      <th>asin</th>\n",
       "      <th>brand</th>\n",
       "      <th>title</th>\n",
       "      <th>reviewUrl</th>\n",
       "      <th>totalReviews</th>\n",
       "      <th>prices</th>\n",
       "      <th>name</th>\n",
       "      <th>rating</th>\n",
       "      <th>date</th>\n",
       "      <th>verified</th>\n",
       "      <th>helpfulVotes</th>\n",
       "      <th>title_review</th>\n",
       "      <th>body_review</th>\n",
       "      <th>sentiment</th>\n",
       "    </tr>\n",
       "  </thead>\n",
       "  <tbody>\n",
       "    <tr>\n",
       "      <th>58553</th>\n",
       "      <td>B0775FLHPN</td>\n",
       "      <td>Apple</td>\n",
       "      <td>Apple iPhone 8 Plus, GSM Unlocked, 64GB - Spac...</td>\n",
       "      <td>https://www.amazon.com/product-reviews/B0775FLHPN</td>\n",
       "      <td>444</td>\n",
       "      <td>$465.00</td>\n",
       "      <td>Agustina Arias</td>\n",
       "      <td>1</td>\n",
       "      <td>2019-09-27</td>\n",
       "      <td>True</td>\n",
       "      <td>NaN</td>\n",
       "      <td>Está bloqueado</td>\n",
       "      <td>No funciona, está bloqueado</td>\n",
       "      <td>0</td>\n",
       "    </tr>\n",
       "  </tbody>\n",
       "</table>\n",
       "</div>"
      ],
      "text/plain": [
       "             asin  brand                                              title  \\\n",
       "58553  B0775FLHPN  Apple  Apple iPhone 8 Plus, GSM Unlocked, 64GB - Spac...   \n",
       "\n",
       "                                               reviewUrl  totalReviews  \\\n",
       "58553  https://www.amazon.com/product-reviews/B0775FLHPN           444   \n",
       "\n",
       "        prices            name  rating       date  verified  helpfulVotes  \\\n",
       "58553  $465.00  Agustina Arias       1 2019-09-27      True           NaN   \n",
       "\n",
       "         title_review                  body_review  sentiment  \n",
       "58553  Está bloqueado  No funciona, está bloqueado          0  "
      ]
     },
     "execution_count": 33,
     "metadata": {},
     "output_type": "execute_result"
    }
   ],
   "source": [
    "#lets check the last day the review was acquired\n",
    "#the last date was on September 27, 2019\n",
    "\n",
    "review.sort_values('date', ascending = False).head(1)"
   ]
  },
  {
   "cell_type": "code",
   "execution_count": 34,
   "metadata": {},
   "outputs": [],
   "source": [
    "#lets extract the year from our date column\n",
    "\n",
    "review['year'] = review.date.dt.year"
   ]
  },
  {
   "cell_type": "code",
   "execution_count": 35,
   "metadata": {},
   "outputs": [
    {
     "data": {
      "text/plain": [
       "year\n",
       "2003        2\n",
       "2004        7\n",
       "2005        3\n",
       "2006        2\n",
       "2007        4\n",
       "2008        6\n",
       "2009       21\n",
       "2010       48\n",
       "2011      143\n",
       "2012      549\n",
       "2013     1554\n",
       "2014     3633\n",
       "2015     5339\n",
       "2016     6949\n",
       "2017    11052\n",
       "2018    18315\n",
       "2019    29402\n",
       "Name: totalReviews, dtype: int64"
      ]
     },
     "execution_count": 35,
     "metadata": {},
     "output_type": "execute_result"
    }
   ],
   "source": [
    "#lets take a look at the amount of review per year\n",
    "\n",
    "review.groupby('year').totalReviews.count()"
   ]
  },
  {
   "cell_type": "code",
   "execution_count": 36,
   "metadata": {},
   "outputs": [
    {
     "data": {
      "text/plain": [
       "Text(0, 0.5, 'Count')"
      ]
     },
     "execution_count": 36,
     "metadata": {},
     "output_type": "execute_result"
    },
    {
     "data": {
      "image/png": "[encoded data removed]",
      "text/plain": [
       "<Figure size 1008x576 with 1 Axes>"
      ]
     },
     "metadata": {},
     "output_type": "display_data"
    }
   ],
   "source": [
    "#let visualize the review counts over the years among different brands\n",
    "\n",
    "plt.figure(figsize = (14,8))\n",
    "plt.legend(bbox_to_anchor=(1, 1), loc=2, labels = review.brand)\n",
    "\n",
    "\n",
    "labels = ['Asus', 'Apple', 'Google', 'Huawei', 'Motorola', 'Nokia', 'Oneplus', 'Samsung', 'Sony', 'Xiaomi']\n",
    "ax = sns.countplot(x = 'year', hue = 'brand', data = review, palette= 'twilight')\n",
    "ax.legend(labels, bbox_to_anchor=(1.04,0.5), loc=\"center left\", borderaxespad=0)\n",
    "\n",
    "ax.set_xlabel(\"Year\")\n",
    "ax.set_ylabel(\"Count\")"
   ]
  },
  {
   "cell_type": "markdown",
   "metadata": {},
   "source": [
    "The reviews are mostly recent for most of the brands as seen in the above plots."
   ]
  },
  {
   "cell_type": "code",
   "execution_count": 37,
   "metadata": {},
   "outputs": [
    {
     "data": {
      "text/plain": [
       "1    55701\n",
       "0    21328\n",
       "Name: sentiment, dtype: int64"
      ]
     },
     "execution_count": 37,
     "metadata": {},
     "output_type": "execute_result"
    }
   ],
   "source": [
    "review.sentiment.value_counts()"
   ]
  },
  {
   "cell_type": "markdown",
   "metadata": {},
   "source": [
    "***Notice that the sentiment values are imbalanced, we will come back to solve this riddle during the evaluation of the model performance***"
   ]
  },
  {
   "cell_type": "code",
   "execution_count": 38,
   "metadata": {},
   "outputs": [
    {
     "data": {
      "text/plain": [
       "Text(0, 0.5, 'Count')"
      ]
     },
     "execution_count": 38,
     "metadata": {},
     "output_type": "execute_result"
    },
    {
     "data": {
      "image/png": "[encoded data removed]",
      "text/plain": [
       "<Figure size 1008x576 with 1 Axes>"
      ]
     },
     "metadata": {},
     "output_type": "display_data"
    }
   ],
   "source": [
    "#let visualize the sentiments among the brands\n",
    "\n",
    "plt.figure(figsize = (14,8))\n",
    "plt.legend(bbox_to_anchor=(1, 1), loc=2, labels = review.brand)\n",
    "\n",
    "\n",
    "labels = ['Asus', 'Apple', 'Google', 'Huawei', 'Motorola', 'Nokia', 'Oneplus', 'Samsung', 'Sony', 'Xiaomi']\n",
    "ax = sns.countplot(x = 'sentiment', hue = 'brand', data = review, palette= 'twilight')\n",
    "ax.legend(labels, bbox_to_anchor=(1.04,0.5), loc=\"center left\", borderaxespad=0)\n",
    "\n",
    "ax.set_xlabel(\"Sentiment: 0 -- Negative, 1 -- Positive\")\n",
    "ax.set_ylabel(\"Count\")"
   ]
  },
  {
   "cell_type": "code",
   "execution_count": 39,
   "metadata": {},
   "outputs": [
    {
     "data": {
      "text/plain": [
       "13053"
      ]
     },
     "execution_count": 39,
     "metadata": {},
     "output_type": "execute_result"
    }
   ],
   "source": [
    "len(review[review.date >= '2019-07-01'])"
   ]
  },
  {
   "cell_type": "code",
   "execution_count": 40,
   "metadata": {},
   "outputs": [],
   "source": [
    "#lets concatenate the title and body review to form one full review\n",
    "\n",
    "review['full_review'] = review.title_review.str.cat(review.body_review, sep = ': ', na_rep = 'na')"
   ]
  },
  {
   "cell_type": "code",
   "execution_count": 41,
   "metadata": {},
   "outputs": [],
   "source": [
    "#lets split the dataset into train and test data\n",
    "#reviews that comes after '2019-July-01' are the test data while those that comes before the date are test data\n",
    "\n",
    "train = review[review.date < '2019-07-01'].copy()\n",
    "test = review[review.date >= '2019-07-01'].copy()"
   ]
  },
  {
   "cell_type": "code",
   "execution_count": 42,
   "metadata": {},
   "outputs": [
    {
     "data": {
      "text/plain": [
       "1    45846\n",
       "0    18130\n",
       "Name: sentiment, dtype: int64"
      ]
     },
     "execution_count": 42,
     "metadata": {},
     "output_type": "execute_result"
    }
   ],
   "source": [
    "train.sentiment.value_counts()"
   ]
  },
  {
   "cell_type": "code",
   "execution_count": 43,
   "metadata": {},
   "outputs": [
    {
     "data": {
      "text/plain": [
       "Index(['asin', 'brand', 'title', 'reviewUrl', 'totalReviews', 'prices', 'name',\n",
       "       'rating', 'date', 'verified', 'helpfulVotes', 'title_review',\n",
       "       'body_review', 'sentiment', 'year', 'full_review'],\n",
       "      dtype='object')"
      ]
     },
     "execution_count": 43,
     "metadata": {},
     "output_type": "execute_result"
    }
   ],
   "source": [
    "train.columns"
   ]
  },
  {
   "cell_type": "code",
   "execution_count": 44,
   "metadata": {},
   "outputs": [
    {
     "data": {
      "text/plain": [
       "(13053, 16)"
      ]
     },
     "execution_count": 44,
     "metadata": {},
     "output_type": "execute_result"
    }
   ],
   "source": [
    "#test data indicates the out of sample (i.e real world) data that we would like to test our data on.\n",
    "\n",
    "test.shape"
   ]
  },
  {
   "cell_type": "code",
   "execution_count": 45,
   "metadata": {},
   "outputs": [
    {
     "data": {
      "text/plain": [
       "1    9855\n",
       "0    3198\n",
       "Name: sentiment, dtype: int64"
      ]
     },
     "execution_count": 45,
     "metadata": {},
     "output_type": "execute_result"
    }
   ],
   "source": [
    "test.sentiment.value_counts()"
   ]
  },
  {
   "cell_type": "markdown",
   "metadata": {},
   "source": [
    "## Data preprocessing\n",
    "\n",
    "The preprocessing techniques includes Lowercasing, Stemming, Stopwords and Noise Removal on the data set provided. Each of this techniques helps significantly in the consistency of having expected output (i.e. lowercasing), useful for dealing with sparsity issues as well as standardizing vocabulary (i.e. Stemming), removal of a set of commonly used words in english in order to focus on the important words instead (i.e. Stopwords removal) and further removing characters digits and pieces of text that can interfere with our text analysis (i.e. Noise Removal).\n",
    "\n",
    "***The preprocessing will be done using review_to_word function and CountVectorizer***\n"
   ]
  },
  {
   "cell_type": "code",
   "execution_count": 46,
   "metadata": {},
   "outputs": [
    {
     "data": {
      "text/plain": [
       "'Worked great for me: Hello, I have this phone and used it until I decided to buy a flip phone. I have had NO problems with the battery or new cases--it has a new fish case on it now and it stays as well as the original one. I have added ring tones, and music so it was all good for me--as a matter of fact I am willing to sell this phone, the home charger and the car charger for a great deal--email me--(...)'"
      ]
     },
     "execution_count": 46,
     "metadata": {},
     "output_type": "execute_result"
    }
   ],
   "source": [
    "#example of how preprocessing works\n",
    "\n",
    "train.loc[5, 'full_review']"
   ]
  },
  {
   "cell_type": "code",
   "execution_count": 47,
   "metadata": {},
   "outputs": [],
   "source": [
    "train['full_review'] = train.full_review.astype(str)"
   ]
  },
  {
   "cell_type": "code",
   "execution_count": 48,
   "metadata": {},
   "outputs": [],
   "source": [
    "#lets use regular expression to remove some alpha-numeric characters that are persistent\n",
    "#use nltk to transform the words to their root forms\n",
    "\n",
    "import re\n",
    "import nltk\n",
    "from nltk.stem.porter import *\n",
    "\n",
    "Replace_with_space = re.compile('(\\===>|\\.|:|\\?|\\!|\\(|\\)|\\#|\\&|\\--)')\n",
    "\n",
    "def review_to_words(df):\n",
    "    df['full_review'] = df.full_review.apply(lambda x : Replace_with_space.sub(\"\", x.lower()))\n",
    "    df['full_review'] = df.full_review.apply(lambda x : PorterStemmer().stem(x))\n",
    "    return df"
   ]
  },
  {
   "cell_type": "code",
   "execution_count": 49,
   "metadata": {},
   "outputs": [
    {
     "data": {
      "text/plain": [
       "'worked great for me hello, i have this phone and used it until i decided to buy a flip phone i have had no problems with the battery or new casesit has a new fish case on it now and it stays as well as the original one i have added ring tones, and music so it was all good for meas a matter of fact i am willing to sell this phone, the home charger and the car charger for a great dealemail m'"
      ]
     },
     "execution_count": 49,
     "metadata": {},
     "output_type": "execute_result"
    }
   ],
   "source": [
    "review_to_words(train)\n",
    "train.loc[5, 'full_review']"
   ]
  },
  {
   "cell_type": "code",
   "execution_count": 50,
   "metadata": {},
   "outputs": [],
   "source": [
    "X_train = train.full_review\n",
    "y_train = train.sentiment"
   ]
  },
  {
   "cell_type": "code",
   "execution_count": 51,
   "metadata": {},
   "outputs": [
    {
     "data": {
      "text/plain": [
       "1    45846\n",
       "0    18130\n",
       "Name: sentiment, dtype: int64"
      ]
     },
     "execution_count": 51,
     "metadata": {},
     "output_type": "execute_result"
    }
   ],
   "source": [
    "y_train.value_counts()"
   ]
  },
  {
   "cell_type": "markdown",
   "metadata": {},
   "source": [
    "As you can observe, the sentiments are highly biased i.e. the data is im-balanced, because most of the sentiments are positive."
   ]
  },
  {
   "cell_type": "code",
   "execution_count": 52,
   "metadata": {},
   "outputs": [],
   "source": [
    "#import and instantiate countvectorizer\n",
    "#Note Count vectorizer will further perform other preprocessing steps\n",
    "#you can read the sklearn docs on countvectorizer to understand the arguments passed in CountVectorizer()\n",
    "\n",
    "from sklearn.feature_extraction.text import CountVectorizer\n",
    "\n",
    "vect = CountVectorizer(stop_words = 'english', ngram_range = (1,2), min_df = 1, max_df = 0.7)"
   ]
  },
  {
   "cell_type": "code",
   "execution_count": 53,
   "metadata": {},
   "outputs": [
    {
     "data": {
      "text/plain": [
       "CountVectorizer(analyzer='word', binary=False, decode_error='strict',\n",
       "                dtype=<class 'numpy.int64'>, encoding='utf-8', input='content',\n",
       "                lowercase=True, max_df=0.7, max_features=None, min_df=1,\n",
       "                ngram_range=(1, 2), preprocessor=None, stop_words='english',\n",
       "                strip_accents=None, token_pattern='(?u)\\\\b\\\\w\\\\w+\\\\b',\n",
       "                tokenizer=None, vocabulary=None)"
      ]
     },
     "execution_count": 53,
     "metadata": {},
     "output_type": "execute_result"
    }
   ],
   "source": [
    "#Note that the vectorizer further exclude punctuations and stop_words from the input text\n",
    "\n",
    "vect"
   ]
  },
  {
   "cell_type": "code",
   "execution_count": null,
   "metadata": {},
   "outputs": [],
   "source": []
  },
  {
   "cell_type": "markdown",
   "metadata": {},
   "source": [
    "## Models to be utilized for this analysis are all linear classifiers and are as follows:\n",
    "\n",
    "- **Naive Bayes**\n",
    "- **Support Vector Machines**\n",
    "- **Logistic Regression**\n",
    "\n",
    "***Grid search will be done for each of the model for the purpose of choosing the best parameters from each of them, note that cross validation is done during gridsearch to further evaluate the model's performance on chosen parameters***"
   ]
  },
  {
   "cell_type": "code",
   "execution_count": null,
   "metadata": {},
   "outputs": [],
   "source": []
  },
  {
   "cell_type": "markdown",
   "metadata": {},
   "source": [
    "- **Naive Bayes:**  Naive Bayes classifiers, a family of classifiers that are based on the popular Bayes’ probability theorem, are known for creating simple yet well performing models, especially in the fields of document classification. Naive Bayes classifiers are **linear classifiers that are known for being simple yet very efficient.**\n",
    "\n",
    "- Naive Bayes classifiers is based on the concept of Bayes’ rule. Bayes’ theorem forms the core of the whole concept of naive Bayes classification; it can be written down in simple words as follows:\n",
    "\n",
    "    Posterior Probability = Conditional Probability . Prior Probability / evidence\n",
    "    \n",
    "    \n",
    "- Assuming, we want to classify x (e.g. our review) to class i (i.e. either positive (1) or negative class (0)), the posterior probability of x in classification context is: ***What is the probability that a particular object x belongs to class i given its observed feature values?”***\n",
    "\n",
    "\n",
    "- And this can be define as: P(ωj∣xi)= P(xi∣ωj) ⋅ P(ωj) / P(xi), where i represent each sample of x, and wj represent the notation of class j.\n",
    "\n",
    "\n",
    "- the Conditional probablilty considers each sample of x independent and identically distributed, and is define by ***How likely is it to observe particular pattern x given that it belongs to class wj?*** This means what is the maximum likelihood of observing feature x in class wj. \n",
    "\n",
    "\n",
    "- This can be estimated by calculating the “individual” likelihoods of observing every feature in the feature vector **x** in class wj. this is said to be estimated via the maximum-likelihood estimate: \n",
    "\n",
    "\n",
    "- which is define as  P(xi∣ωj)= Nxi,ωj / Nωj       (i=(1,...,d))\n",
    "\n",
    "    Nxi,ωj denotes Number of times feature xi appears in samples from class ωj\n",
    "    \n",
    "    Nωj denotes Total count of all features in class ωj.\n",
    "    \n",
    "    \n",
    "- Prior Probability are also called class priors, which describe ***“the general probability of encountering a particular class.”***\n",
    "\n",
    "- a priori knowledge can be obtained, e.g., by consulting a domain expert or by estimation from the training data assuming that the training data is i.i.d.(independent and identically distributed) and a representative sample of the entire population. \n",
    "\n",
    "\n",
    "- If estimated from the training data, the maximum-likelihood estimate approach can be formulated as:  P(ωj)=Nωj / Nc\n",
    "\n",
    "    Nωj denotes Count of samples from class ωj\n",
    "    \n",
    "    Nc denotes Count of all samples\n",
    "    \n",
    "- The evidence P(x) can be understood as ***the probability of encountering a particular pattern x independent from the class label.*** this is usually a constant value.\n",
    "\n",
    "\n",
    "**you can read more on naive bayes by downloading this [paper](https://arxiv.org/pdf/1410.5329.pdf)**"
   ]
  },
  {
   "cell_type": "code",
   "execution_count": 54,
   "metadata": {},
   "outputs": [],
   "source": [
    "#import and instantiate nultinomialnaive bayes\n",
    "\n",
    "from sklearn.naive_bayes import MultinomialNB\n",
    "nb = MultinomialNB()"
   ]
  },
  {
   "cell_type": "code",
   "execution_count": 55,
   "metadata": {},
   "outputs": [],
   "source": [
    "#import and instantiate pipeline (to make sequential steps), gridsearch and cross-validation\n",
    "\n",
    "from sklearn.pipeline import make_pipeline\n",
    "from sklearn.model_selection import GridSearchCV\n",
    "from sklearn.model_selection import cross_val_score"
   ]
  },
  {
   "cell_type": "code",
   "execution_count": 56,
   "metadata": {},
   "outputs": [
    {
     "data": {
      "text/plain": [
       "{'multinomialnb__alpha': [0.2, 0.4, 0.6, 1.0]}"
      ]
     },
     "execution_count": 56,
     "metadata": {},
     "output_type": "execute_result"
    }
   ],
   "source": [
    "#parameters we want to optimize for baive bayes in order to get the optimal results\n",
    "#for naive bayes we only tune the alpha parameters\n",
    "#other parameters i.e. class/fit_prior is left to the discretion of the model coz this require domain experience\n",
    "\n",
    "param_grid = {}\n",
    "param_grid['multinomialnb__alpha'] = [0.2, 0.4, 0.6, 1.0]\n",
    "param_grid"
   ]
  },
  {
   "cell_type": "code",
   "execution_count": 57,
   "metadata": {},
   "outputs": [],
   "source": [
    "#instantiate pipeline for naive bayes incorporating Countvectorizer\n",
    "\n",
    "pipe_nb = make_pipeline(vect, nb)"
   ]
  },
  {
   "cell_type": "code",
   "execution_count": 58,
   "metadata": {},
   "outputs": [
    {
     "data": {
      "text/plain": [
       "[('countvectorizer',\n",
       "  CountVectorizer(analyzer='word', binary=False, decode_error='strict',\n",
       "                  dtype=<class 'numpy.int64'>, encoding='utf-8', input='content',\n",
       "                  lowercase=True, max_df=0.7, max_features=None, min_df=1,\n",
       "                  ngram_range=(1, 2), preprocessor=None, stop_words='english',\n",
       "                  strip_accents=None, token_pattern='(?u)\\\\b\\\\w\\\\w+\\\\b',\n",
       "                  tokenizer=None, vocabulary=None)),\n",
       " ('multinomialnb', MultinomialNB(alpha=1.0, class_prior=None, fit_prior=True))]"
      ]
     },
     "execution_count": 58,
     "metadata": {},
     "output_type": "execute_result"
    }
   ],
   "source": [
    "#examine the pipeline steps\n",
    "pipe_nb.steps"
   ]
  },
  {
   "cell_type": "code",
   "execution_count": null,
   "metadata": {},
   "outputs": [],
   "source": []
  },
  {
   "cell_type": "markdown",
   "metadata": {},
   "source": [
    "Note: Because our target feature is **imbalanced** i.e. the proportion of 1 -- positive is far more greater than 0 -- negative sentiment, we will be using ***ROC_AUC_SCORE*** as our evaluation metric.\n",
    "\n",
    "\n",
    "- Also, we will using the ***CONFUSION MATRIX*** to visualize the proportion of misclassified and classified reviews later in this section.\n",
    "\n",
    "\n",
    "\n",
    "- Just to summarize, Area Under ROC Curve (AUROC) is recommended because it represent represents the likelihood of your model distinguishing observations from two classes. In other words, if you randomly select one observation from each class, what's the probability that your model will be able to \"rank\" them correctly? you can read more on this [here](https://stats.stackexchange.com/questions/132777/what-does-auc-stand-for-and-what-is-it).\n",
    "\n",
    "\n",
    "\n",
    "- Also, When we make a binary prediction, Confusion matrix outputs 4 types of outcomes:\n",
    "\n",
    "- We predict 0 while the true class is actually 0: this is called a **True Negative,** i.e. we correctly predict that the class is negative (0). For example, the actual negative sentiment is predicted to negative.\n",
    "\n",
    "- We predict 0 while the true class is actually 1: this is called a **False Negative,** i.e. we incorrectly predict that the class is negative (0). For example, an actual positive sentiment is predicted to be negative.\n",
    "\n",
    "- We predict 1 while the true class is actually 0: this is called a **False Positive,** i.e. we incorrectly predict that the class is positive (1). For example, an actual negative sentiment is predicted to be positive.\n",
    "\n",
    "- We predict 1 while the true class is actually 1: this is called a **True Positive,** i.e. we correctly predict that the class is positive (1). For example, an actual positive sentiment is predicted to be positive."
   ]
  },
  {
   "cell_type": "code",
   "execution_count": 59,
   "metadata": {},
   "outputs": [],
   "source": [
    "#instantiate gridsearch, pass the pipe into the gridsearch\n",
    "\n",
    "grid_nb = GridSearchCV(pipe_nb, param_grid, cv = 10, scoring = 'roc_auc' )"
   ]
  },
  {
   "cell_type": "code",
   "execution_count": 60,
   "metadata": {},
   "outputs": [
    {
     "name": "stdout",
     "output_type": "stream",
     "text": [
      "Wall time: 6min 28s\n"
     ]
    },
    {
     "data": {
      "text/plain": [
       "GridSearchCV(cv=10, error_score=nan,\n",
       "             estimator=Pipeline(memory=None,\n",
       "                                steps=[('countvectorizer',\n",
       "                                        CountVectorizer(analyzer='word',\n",
       "                                                        binary=False,\n",
       "                                                        decode_error='strict',\n",
       "                                                        dtype=<class 'numpy.int64'>,\n",
       "                                                        encoding='utf-8',\n",
       "                                                        input='content',\n",
       "                                                        lowercase=True,\n",
       "                                                        max_df=0.7,\n",
       "                                                        max_features=None,\n",
       "                                                        min_df=1,\n",
       "                                                        ngram_range=(1, 2),\n",
       "                                                        preprocessor=None,\n",
       "                                                        stop_words='english',\n",
       "                                                        strip_accents=None,\n",
       "                                                        token_pattern='(?u)\\\\b\\\\w\\\\w+\\\\b',\n",
       "                                                        tokenizer=None,\n",
       "                                                        vocabulary=None)),\n",
       "                                       ('multinomialnb',\n",
       "                                        MultinomialNB(alpha=1.0,\n",
       "                                                      class_prior=None,\n",
       "                                                      fit_prior=True))],\n",
       "                                verbose=False),\n",
       "             iid='deprecated', n_jobs=None,\n",
       "             param_grid={'multinomialnb__alpha': [0.2, 0.4, 0.6, 1.0]},\n",
       "             pre_dispatch='2*n_jobs', refit=True, return_train_score=False,\n",
       "             scoring='roc_auc', verbose=0)"
      ]
     },
     "execution_count": 60,
     "metadata": {},
     "output_type": "execute_result"
    }
   ],
   "source": [
    "%time grid_nb.fit(X_train, y_train)"
   ]
  },
  {
   "cell_type": "code",
   "execution_count": 61,
   "metadata": {},
   "outputs": [
    {
     "name": "stdout",
     "output_type": "stream",
     "text": [
      "0.9586943386172484\n",
      "{'multinomialnb__alpha': 0.2}\n"
     ]
    }
   ],
   "source": [
    "#print the best scores and parameters \n",
    "\n",
    "print(grid_nb.best_score_)\n",
    "print(grid_nb.best_params_)"
   ]
  },
  {
   "cell_type": "code",
   "execution_count": 62,
   "metadata": {},
   "outputs": [],
   "source": [
    "#lets evaluate naive bayes model on our test data\n",
    "#first let pre-process the test data\n",
    "\n",
    "test = review_to_words(test)"
   ]
  },
  {
   "cell_type": "code",
   "execution_count": 63,
   "metadata": {},
   "outputs": [],
   "source": [
    "x_test = test.full_review\n",
    "y_test = test.sentiment"
   ]
  },
  {
   "cell_type": "code",
   "execution_count": 64,
   "metadata": {},
   "outputs": [
    {
     "data": {
      "text/plain": [
       "array([0, 0, 1, ..., 0, 1, 1])"
      ]
     },
     "execution_count": 64,
     "metadata": {},
     "output_type": "execute_result"
    }
   ],
   "source": [
    "# grid search automatically refit the best model with the entire data set and can be used for predictions\n",
    "\n",
    "nb_pred = grid_nb.predict(x_test)\n",
    "nb_pred"
   ]
  },
  {
   "cell_type": "code",
   "execution_count": 65,
   "metadata": {},
   "outputs": [],
   "source": [
    "from sklearn.metrics import confusion_matrix,roc_auc_score,classification_report,roc_curve"
   ]
  },
  {
   "cell_type": "code",
   "execution_count": 66,
   "metadata": {},
   "outputs": [
    {
     "name": "stdout",
     "output_type": "stream",
     "text": [
      "0.9074968849442622 \n",
      "\n",
      "[[2754  444]\n",
      " [ 455 9400]] \n",
      "\n",
      "              precision    recall  f1-score   support\n",
      "\n",
      "           0       0.86      0.86      0.86      3198\n",
      "           1       0.95      0.95      0.95      9855\n",
      "\n",
      "    accuracy                           0.93     13053\n",
      "   macro avg       0.91      0.91      0.91     13053\n",
      "weighted avg       0.93      0.93      0.93     13053\n",
      "\n"
     ]
    }
   ],
   "source": [
    "#lets calculate the roc_auc and confusion_matrix\n",
    "\n",
    "print(roc_auc_score(y_test, nb_pred), '\\n')\n",
    "\n",
    "print(confusion_matrix(y_test, nb_pred), '\\n')\n",
    "\n",
    "print(classification_report(y_test, nb_pred))"
   ]
  },
  {
   "cell_type": "markdown",
   "metadata": {},
   "source": [
    "***As observed above, about ~ 450 reviews are misclassified (both false negatives and positives), even though the area under the ROC curve is ~ 0.9 which is very good for a classifier.***\n",
    "\n",
    "***We will see the performance of the other models on the data in the next sections.***"
   ]
  },
  {
   "cell_type": "code",
   "execution_count": 67,
   "metadata": {},
   "outputs": [],
   "source": [
    "#lets define a function that takes in the model with the best parameters and plots out the ROC curve\n",
    "\n",
    "def get_roc_curve(model, X, y):\n",
    "    \n",
    "    pred_proba = model.predict_proba(X)[:, 1]\n",
    "    fpr, tpr, _ = roc_curve(y, pred_proba)\n",
    "    \n",
    "    plt.figure(figsize=(14,8))\n",
    "    plt.plot(fpr, tpr, color=\"red\")\n",
    "    plt.plot([0, 1], [0, 1], color='black', lw=2, linestyle='--')\n",
    "    plt.xlim([0.0, 1.0])\n",
    "    plt.ylim([0.0, 1.05])\n",
    "    plt.xlabel('False Positive Rate')\n",
    "    plt.ylabel('True Positive Rate')\n",
    "    plt.title('Roc curve')\n",
    "    \n",
    "    return plt.show()"
   ]
  },
  {
   "cell_type": "code",
   "execution_count": 68,
   "metadata": {},
   "outputs": [
    {
     "data": {
      "image/png": "[encoded data removed]",
      "text/plain": [
       "<Figure size 1008x576 with 1 Axes>"
      ]
     },
     "metadata": {},
     "output_type": "display_data"
    }
   ],
   "source": [
    "#lets visualize the roc_curve for the naive bayes\n",
    "\n",
    "get_roc_curve(grid_nb.best_estimator_, x_test, y_test)"
   ]
  },
  {
   "cell_type": "markdown",
   "metadata": {},
   "source": [
    "Note: **An AUC of 1.0 represents a perfect model, and an AUC of 0.5 represents random guessing. You can think of 0.5 as the AUC of the \"null model\".**\n",
    "\n",
    "**ROC curve - plots the values of true positive rate (TPR) against the false positive rate (FPR). And when the TPR == ~1.0 and the FPR == ~ 0.0 (i.e. AUC == 1.0), it is said that your classifier/model actually performed extremely well in seperating your data set into 2 distinct classes irrespective of whether your dataset is imbalanced.**"
   ]
  },
  {
   "cell_type": "code",
   "execution_count": null,
   "metadata": {},
   "outputs": [],
   "source": []
  },
  {
   "cell_type": "markdown",
   "metadata": {},
   "source": [
    "## Lets try and find out the SVM performance on our data "
   ]
  },
  {
   "cell_type": "markdown",
   "metadata": {},
   "source": [
    "- **Support Vector Machines** is linear classification & regression classifier that seperates two distinct categories in an explicit way by transforming these observations into high dimensional space and find a relatively high dimensional support vector classifier which is known as a ***Hyperplane*** that can effectively categorize the observations into two categories.\n",
    "\n",
    "- The ultimate aim of SVM is to transform data that are not linearly seperatable in 1-dimensional to higher dimensional space where they can be linearly seperatable, i.e. projecting data into higher dimension make them linearly seperatable.\n",
    "\n",
    "\n",
    "- Before we discusss more on SVM let me state some underlying things here:\n",
    "\n",
    "- Before SVM, we have a more primitive classifier called **Maximal Margin classifier** which classify the observations based on the largest distance btw the observations and a given threshold. ***this threshold is initially assigned to seperate 2 different observations, and the distance btw the threshold and the observations is called a Margin.*** So, Maximal Margin Classifier (MMC) gives the largest margin to make classification btw 2 observations given a threshold.\n",
    "\n",
    "\n",
    "- One flaw of the MMC is that ***it does not allow misclassification, i.e. it is sensitive to outliers.***\n",
    "\n",
    "\n",
    "- Choosing a threshold that allows misclassification is a typical example of bias/variance tradeoff. ***If we aallow misclassification, then we have high bias i.e. our classifier is not sensitive to the training data, but performs better on new data (i.e. we have low variance) BUT if we don't allow misclassification like the MMC, we have low bias i.e. our model is sensitive to the training data but perform poorly on the new data i.e. High variance.***\n",
    "\n",
    "\n",
    "- When we allow misclassification, the distance btw the obbservations and the threshold is called **Soft margin.**\n",
    "\n",
    "\n",
    "- cross validation can be used to determine how many misclassified observations to allow inside of the soft margin to get the **Best classification.**\n",
    "\n",
    "\n",
    "- When we use soft margin to determine the location of threshold, we have a new classifier called **Soft/Support vector classifier (SVC),** the name SVC comes from the fact that the observations ***on the edge*** and within the ***soft margin*** are called ***SUPPORT VECTORS.***\n",
    "\n",
    "\n",
    "- When the observations/data have more than 3 features i.e. greater than 3 dimensions, the SVC is a ***Hyperplane***\n",
    "\n",
    "\n",
    "- When SVC cannot differentiate/categorize/classify observations due to large sum of overlapping within the observations, the observations/data are moved into higher dimensional space, and the classifiers that seperates data into 2 distinct groups in this high dimensional space are called **SUPPORT VECTOR MACHINES**\n",
    "\n",
    "- Support vector machines use ***KERNEL FUNCTIONS*** to systematically finds SVCs in higher dimensions that can seperate the data.\n",
    "\n",
    "- **Polynomial kernel function** has a parameter **d -- degree of polynomial,** that determines the dimension upon which the observations are classified. i.e. polynomial kernel computes the relationship between ***each pair of observations*** in n-dimensions (depends on the value of d) to find SVC.\n",
    "\n",
    "\n",
    "- Note that, Kernel functions **DO NOT** actually traansform the observations into high dimensional space, ***they only calculate the relationships btw every pair of data points (observations) as if they are in higher dimensional space.***\n",
    "\n",
    "\n",
    "- polynomial kernel == (a x b + r)^d; a & b are 2 different observations, r -- coefficient of the polynomial, d -- degree of the polynomial.\n",
    "\n",
    "- We also have ***Radial Kernel function*** is used to find the SVC in infinite dimensions, the radial kernel behaves like a ***weighted nearest neighbor model*** i.e. the closest neighbors to the new observations have a stronger influence on the new observations than those afar off. \n",
    "\n",
    "\n",
    "- The amount of influence one observation has on the other is a function of the squared distance btw 2 observations (i.e. (a - b)^2): \n",
    "            == e^-g(a-b)^2\n",
    "            where, g - gamma ---> scales the squared distance, thus scales the influence\n",
    "            \n",
    "- Note: ***When the observations are far from each other, we get a number close to zero but if otherwise we have a higher number (or stronger influence on the new observations)***\n",
    "\n",
    "--- check this [youtubevideo for more intuitive explanation on SVM](https://www.youtube.com/watch?v=Qc5IyLW_hns)"
   ]
  },
  {
   "cell_type": "code",
   "execution_count": 69,
   "metadata": {},
   "outputs": [],
   "source": [
    "#import and instantiate SVM\n",
    "\n",
    "from sklearn.svm import LinearSVC\n",
    "svc = LinearSVC(class_weight = 'balanced')"
   ]
  },
  {
   "cell_type": "markdown",
   "metadata": {},
   "source": [
    "**C** - the parameter that helps you decide the how much you want to penalize misclassified points. It controls the trade off between smooth decision boundary and classifying training points correctly. A large value of c means you will get more training points correctly(penalize outliers) while a low value will be vice versa(accomodate outliers).\n",
    "\n",
    "***since we are performing a binary classification with just an independent feature i.e. x_train.full_review, we will use kernel = linear***\n",
    "\n",
    "***During training, we can use the argument class_weight='balanced'  to penalize mistakes on the minority class by an amount proportional to how under-represented it is.*** [read more here](https://elitedatascience.com/imbalanced-classes)"
   ]
  },
  {
   "cell_type": "code",
   "execution_count": 70,
   "metadata": {},
   "outputs": [
    {
     "data": {
      "text/plain": [
       "{'C': [0.02, 0.04, 0.06, 0.08, 0.1]}"
      ]
     },
     "execution_count": 70,
     "metadata": {},
     "output_type": "execute_result"
    }
   ],
   "source": [
    "#we are only optimizing for the value of 'C' which is the penalizing for the amt of points we want to misclassified points or not!\n",
    "\n",
    "param_gridsvc = {}\n",
    "param_gridsvc['C'] = [0.02, 0.04, 0.06, 0.08, 0.1] #random float values \n",
    "\n",
    "param_gridsvc"
   ]
  },
  {
   "cell_type": "markdown",
   "metadata": {},
   "source": [
    "- Here, we are not going to **pipeline our vectorizer and model trainng steps**, because **'make_pipeline'** does not take **'C' parameter.**"
   ]
  },
  {
   "cell_type": "code",
   "execution_count": 71,
   "metadata": {},
   "outputs": [],
   "source": [
    "#obtain vocabularies from the training data and vectorize your reviews\n",
    "\n",
    "X_train_svc = vect.fit_transform(X_train)\n",
    "X_testsvc = vect.transform(x_test) #we only vectorize the test data reviews"
   ]
  },
  {
   "cell_type": "code",
   "execution_count": 72,
   "metadata": {},
   "outputs": [],
   "source": [
    "#instantiate gridsearch, pass the svc model into the gridsearch\n",
    "\n",
    "grid_svc = GridSearchCV(svc, param_gridsvc, cv = 10, scoring = 'roc_auc')"
   ]
  },
  {
   "cell_type": "code",
   "execution_count": 73,
   "metadata": {},
   "outputs": [
    {
     "name": "stdout",
     "output_type": "stream",
     "text": [
      "Wall time: 7min 44s\n"
     ]
    },
    {
     "data": {
      "text/plain": [
       "GridSearchCV(cv=10, error_score=nan,\n",
       "             estimator=LinearSVC(C=1.0, class_weight='balanced', dual=True,\n",
       "                                 fit_intercept=True, intercept_scaling=1,\n",
       "                                 loss='squared_hinge', max_iter=1000,\n",
       "                                 multi_class='ovr', penalty='l2',\n",
       "                                 random_state=None, tol=0.0001, verbose=0),\n",
       "             iid='deprecated', n_jobs=None,\n",
       "             param_grid={'C': [0.02, 0.04, 0.06, 0.08, 0.1]},\n",
       "             pre_dispatch='2*n_jobs', refit=True, return_train_score=False,\n",
       "             scoring='roc_auc', verbose=0)"
      ]
     },
     "execution_count": 73,
     "metadata": {},
     "output_type": "execute_result"
    }
   ],
   "source": [
    "%time grid_svc.fit(X_train_svc, y_train)"
   ]
  },
  {
   "cell_type": "code",
   "execution_count": 74,
   "metadata": {},
   "outputs": [
    {
     "name": "stdout",
     "output_type": "stream",
     "text": [
      "0.9724380457654558\n",
      "{'C': 0.02}\n"
     ]
    }
   ],
   "source": [
    "#print the best scores and parameters \n",
    "\n",
    "print(grid_svc.best_score_)\n",
    "print(grid_svc.best_params_)"
   ]
  },
  {
   "cell_type": "code",
   "execution_count": 75,
   "metadata": {},
   "outputs": [
    {
     "data": {
      "text/plain": [
       "array([0, 0, 1, ..., 0, 1, 1])"
      ]
     },
     "execution_count": 75,
     "metadata": {},
     "output_type": "execute_result"
    }
   ],
   "source": [
    "# grid search automatically refit the best model with the entire data set and can be used for predictions\n",
    "\n",
    "svc_pred = grid_svc.predict(X_testsvc)\n",
    "svc_pred"
   ]
  },
  {
   "cell_type": "code",
   "execution_count": 76,
   "metadata": {},
   "outputs": [
    {
     "name": "stdout",
     "output_type": "stream",
     "text": [
      "0.9217741682158656 \n",
      "\n",
      "[[2906  292]\n",
      " [ 642 9213]] \n",
      "\n",
      "              precision    recall  f1-score   support\n",
      "\n",
      "           0       0.82      0.91      0.86      3198\n",
      "           1       0.97      0.93      0.95      9855\n",
      "\n",
      "    accuracy                           0.93     13053\n",
      "   macro avg       0.89      0.92      0.91     13053\n",
      "weighted avg       0.93      0.93      0.93     13053\n",
      "\n"
     ]
    }
   ],
   "source": [
    "#lets calculate the roc_auc and confusion_matrix\n",
    "\n",
    "print(roc_auc_score(y_test, svc_pred), '\\n')\n",
    "\n",
    "print(confusion_matrix(y_test, svc_pred), '\\n')\n",
    "\n",
    "print(classification_report(y_test, svc_pred))"
   ]
  },
  {
   "cell_type": "markdown",
   "metadata": {},
   "source": [
    "- Comments on the model performance on the test data:\n",
    "\n",
    "***Here there is an improvement in the roc_auc score (~92%), but there is more false negatives (negatives i.e. 0 -- in our case) is more misclassified more than the positives -- 1.***\n",
    "\n",
    "\n",
    "***As you can observed above, the precision for 1 (97%) is significantly higher than the one for 0(82%), this indicates less false positive (i.e. less misclassified 1s) and more false negatives(i.e.more misclassified 0s).***"
   ]
  },
  {
   "cell_type": "markdown",
   "metadata": {},
   "source": [
    "### Here we didnt plot the ROC curve for SVM because, the Linearsvc classifier does not have ***predict_probability atrribute*** yet."
   ]
  },
  {
   "cell_type": "code",
   "execution_count": null,
   "metadata": {},
   "outputs": [],
   "source": []
  },
  {
   "cell_type": "code",
   "execution_count": null,
   "metadata": {},
   "outputs": [],
   "source": []
  },
  {
   "cell_type": "markdown",
   "metadata": {},
   "source": [
    "## Finally, lets see the model performance on logistic regression"
   ]
  },
  {
   "cell_type": "code",
   "execution_count": null,
   "metadata": {},
   "outputs": [],
   "source": []
  },
  {
   "cell_type": "markdown",
   "metadata": {},
   "source": [
    "- **Logistic Regression** is a linear classifier that is used to find the probability of an event occuring or not occuring / or been true or false. It is used mostly to predict a binary outcome given a set of independent variables. it predicts the probability of occurrence of an event by fitting data to a logit function / sigmoid function == 1 / 1 + e^-z; where z is the weighted input.\n",
    "\n",
    "\n",
    "- In other words, Logistic regression fits an S-shaped function to the data points from 0 to 1 which predicts the probability that an event will occur or not.\n",
    "\n",
    "\n",
    "- Logistic regression ability to provide probabilities and classify new samples using continous and discrete measurements makes it a useful classifier.\n",
    "\n",
    "\n",
    "- **How does logistic regression calculate the best fit line for the data points/observations**\n",
    "\n",
    "\n",
    "- This is done through the term called **Maximum (log) likelihood,** where the product of the individual likelihood (~ predicted probability) for each data points obtained from S-shaped curve is calculated and summed up together and the S-shaped line/curve with maximum likelihood (or highest, i.e. with sum of log likelihood of all the data points that this is most close to 0 (zero)) is said to be the Best fit line for the data points, **And this best fit line is used to determine the probability that a class or an event will occur based on the input data.**\n",
    "\n",
    "\n",
    "- Now, **How do we determine or calculate for the Maximum Likelihood of the Logistic Regression:**\n",
    "\n",
    "\n",
    "- First Step, Is to project the data points unto a graph (that will be used to determine the log(odds) of each data point), this data points will be pushed towards negative and poistive infinity on the graph (***because the data points either fall into a class (positive infinity) or not (negative infinity)***, then project the data onto an initial Co-ordinate line (usually, a random guess line /could be any line), then when you project the data points onto this line, you can obtain its log(odds) value for each data points, the log(odds) value is said to be on y-axis while the data points are on x-axis. \n",
    "\n",
    "\n",
    "- Note **The initial co-ordinate line that the data points are projected to** ***is just a RANDOM LINE / could be any line,*** BUT after the initial line the next line would be chosen to improve the maximum likelihood (i.e. reduce the error made by the intial one to get the data closest to their true probabilities when transformed to the S-shaped probability curve). ***This is usually done iteratively through gradient descent (basically get us to the minimum error as possible)***\n",
    "\n",
    "\n",
    "- After getting the log(odds) value for each sample, we transform these values into probability which can be plotted as S-shaped curve on logistic regression graph based on sigmoid function. Note ***Sigmoid function is used to transform log(odds) values of each sample into a probability***.\n",
    "\n",
    "\n",
    "- Sigmoid function == e^log(odds) / 1 + e^log(odds).\n",
    "\n",
    "\n",
    "- After the transformation back to probability, we calculate the likelihood of each data points belonging to the class/event or not, and this is based on its position on the S-shaped curve. Note that the **likelihood of a data point belonging to an event or not is the same as its predicted probability.**\n",
    "\n",
    "\n",
    "\n",
    "- Also, note that the likelihood of data points that belong to that particular class / event is given as their **predicted probaility i.e. their position on the y-axis on the S-shaped curve (usually their position is between 0 & 1)** while the likelihood of datapoints that do not belong to that particular class is given as **1 -(minus) their predicted probability (i.e. 1 -(minus) their position on the y-axis (usually their position will be btw 0 & 1).**\n",
    "\n",
    "\n",
    "- Thereafter, the product of the likelihood of the individual data points is computed (or this can be done by adding up the log likelihood of each of the data points) and this value is kept in memory. \n",
    "\n",
    "\n",
    "- After calculating the maximum likelihood, **Transform the predicted probability of the individual data points back to their log(odds) form,** This is usually done using this formula: log(odd) == log(p / l - p); where p denotes the probability of class or event to be predicted.\n",
    "\n",
    "\n",
    "- More explicitly, log(odds) == probability of an event or class occuring / probability of an event or class not occuring.\n",
    "\n",
    "\n",
    "- This transformation is done for each data points or observations, where data points that are in that particular class are moved towards ***positive infinity*** and data points that are not of that class are moved towards ***negative infinity*** as discussed above.\n",
    "\n",
    "\n",
    "- And ***another co-ordinate is chosen to correct for the mistakes of the initially chosen random co-ordinate line.*** \n",
    "\n",
    "\n",
    "- Thereafter, the data points are again projected unto this ***new & corrected co-ordinate line*** and the steps described above are done over and over again.\n",
    "\n",
    "\n",
    "- After the steps highlighted above has been done for a number of times, The S-Shaped curve/line with the maximum likelihood i.e. ***loglikelihood whose sum (after adding up the likelihood of each data points) is closest to zero is considered the Best fit and the right model to be used for logistic regression.***\n",
    "\n",
    "\n",
    "- Note: **The algorithm that finds the line with maximum likelihood is pretty smart, each time it rotates the co-ordinate line, it does so in a way to that increases the likelihood.**\n",
    "\n",
    "\n",
    "- Note that ***The aim of the maximium likelihood based on the calculation of the predicted probability from the S-shaped curve, is to predict probabilities that are closest to the TRUE PROBABILITIES.***\n",
    "\n",
    "\n",
    "\n",
    "- Note, for logistic regression ***least square error is not used, because the data points are pushed towards infinity***\n",
    "\n",
    "\n",
    "\n",
    "\n",
    "\n",
    "- R^2 and p-value are used to evaluate the performance of the model.\n",
    "\n",
    "       - R^2 = Loglikelihood(overall probability) * Loglikelihood(bestfitline) / Loglikelihood(overall probability)\n",
    "       \n",
    "- Note that Loglikelihood(overall probability) == count of datapoints that belongs to the class / total count of datapoints of the whole data\n",
    "       \n",
    "       \n",
    "- R^2 can be used check if the features that act as predictors for the target variables are highly correlated to the target variables, if the R^2 is less than or == zero then they are not corelated, but if the R^2 is greater than 0 and ~ 1 then they are highly correlatable.\n",
    "\n",
    "\n",
    "- p value is used to check if the R^2 values are statistically significant."
   ]
  },
  {
   "cell_type": "code",
   "execution_count": null,
   "metadata": {},
   "outputs": [],
   "source": []
  },
  {
   "cell_type": "code",
   "execution_count": 77,
   "metadata": {},
   "outputs": [],
   "source": [
    "#import and instantiate logistic regression\n",
    "#we have to specify the 'solver' attribute because is not set by default \n",
    "#and we specify the max_iter to accomodate the number of iterations needed for the 'lbfgs' convergence\n",
    "\n",
    "from sklearn.linear_model import LogisticRegression\n",
    "log = LogisticRegression(solver = 'lbfgs', max_iter = 6000)"
   ]
  },
  {
   "cell_type": "code",
   "execution_count": 78,
   "metadata": {},
   "outputs": [
    {
     "data": {
      "text/plain": [
       "{'logisticregression__penalty': ['l2'],\n",
       " 'logisticregression__C': [0.01, 0.03, 0.1, 1.0]}"
      ]
     },
     "execution_count": 78,
     "metadata": {},
     "output_type": "execute_result"
    }
   ],
   "source": [
    "#location of optimum tuning parameters by performing exhaustive grid search for countvectorizer and logistic regression\n",
    "#you can add other parameters \n",
    "\n",
    "param_gridlog = {}\n",
    "param_gridlog['logisticregression__penalty'] = ['l2']\n",
    "param_gridlog['logisticregression__C'] = [0.01, 0.03, 0.1, 1.0]\n",
    "param_gridlog"
   ]
  },
  {
   "cell_type": "code",
   "execution_count": 79,
   "metadata": {},
   "outputs": [],
   "source": [
    "pipe_log = make_pipeline(vect, log)"
   ]
  },
  {
   "cell_type": "code",
   "execution_count": 80,
   "metadata": {},
   "outputs": [],
   "source": [
    "# pass the pipeline to GridSearchCV\n",
    "\n",
    "grid_log = GridSearchCV(pipe_log, param_gridlog, cv=10, scoring='roc_auc')"
   ]
  },
  {
   "cell_type": "code",
   "execution_count": 81,
   "metadata": {},
   "outputs": [
    {
     "name": "stdout",
     "output_type": "stream",
     "text": [
      "Wall time: 19min 13s\n"
     ]
    },
    {
     "data": {
      "text/plain": [
       "GridSearchCV(cv=10, error_score=nan,\n",
       "             estimator=Pipeline(memory=None,\n",
       "                                steps=[('countvectorizer',\n",
       "                                        CountVectorizer(analyzer='word',\n",
       "                                                        binary=False,\n",
       "                                                        decode_error='strict',\n",
       "                                                        dtype=<class 'numpy.int64'>,\n",
       "                                                        encoding='utf-8',\n",
       "                                                        input='content',\n",
       "                                                        lowercase=True,\n",
       "                                                        max_df=0.7,\n",
       "                                                        max_features=None,\n",
       "                                                        min_df=1,\n",
       "                                                        ngram_range=(1, 2),\n",
       "                                                        preprocessor=None,\n",
       "                                                        stop_words='english',\n",
       "                                                        strip_accents=None,\n",
       "                                                        to...\n",
       "                                                           max_iter=6000,\n",
       "                                                           multi_class='auto',\n",
       "                                                           n_jobs=None,\n",
       "                                                           penalty='l2',\n",
       "                                                           random_state=None,\n",
       "                                                           solver='lbfgs',\n",
       "                                                           tol=0.0001,\n",
       "                                                           verbose=0,\n",
       "                                                           warm_start=False))],\n",
       "                                verbose=False),\n",
       "             iid='deprecated', n_jobs=None,\n",
       "             param_grid={'logisticregression__C': [0.01, 0.03, 0.1, 1.0],\n",
       "                         'logisticregression__penalty': ['l2']},\n",
       "             pre_dispatch='2*n_jobs', refit=True, return_train_score=False,\n",
       "             scoring='roc_auc', verbose=0)"
      ]
     },
     "execution_count": 81,
     "metadata": {},
     "output_type": "execute_result"
    }
   ],
   "source": [
    "# time for the grid search\n",
    "\n",
    "%time grid_log.fit(X_train, y_train)"
   ]
  },
  {
   "cell_type": "code",
   "execution_count": 82,
   "metadata": {},
   "outputs": [
    {
     "name": "stdout",
     "output_type": "stream",
     "text": [
      "0.9724855105230109\n",
      "{'logisticregression__C': 1.0, 'logisticregression__penalty': 'l2'}\n"
     ]
    }
   ],
   "source": [
    "#print the best scores and parameters \n",
    "\n",
    "print(grid_log.best_score_)\n",
    "print(grid_log.best_params_)"
   ]
  },
  {
   "cell_type": "code",
   "execution_count": 83,
   "metadata": {},
   "outputs": [
    {
     "data": {
      "text/plain": [
       "array([0, 0, 1, ..., 0, 1, 1])"
      ]
     },
     "execution_count": 83,
     "metadata": {},
     "output_type": "execute_result"
    }
   ],
   "source": [
    "# grid search automatically refit the best model with the entire data set and can be used for predictions\n",
    "\n",
    "log_pred = grid_log.predict(x_test)\n",
    "log_pred"
   ]
  },
  {
   "cell_type": "code",
   "execution_count": 84,
   "metadata": {},
   "outputs": [
    {
     "name": "stdout",
     "output_type": "stream",
     "text": [
      "0.9050346820644182 \n",
      "\n",
      "[[2723  475]\n",
      " [ 408 9447]] \n",
      "\n",
      "              precision    recall  f1-score   support\n",
      "\n",
      "           0       0.87      0.85      0.86      3198\n",
      "           1       0.95      0.96      0.96      9855\n",
      "\n",
      "    accuracy                           0.93     13053\n",
      "   macro avg       0.91      0.91      0.91     13053\n",
      "weighted avg       0.93      0.93      0.93     13053\n",
      "\n"
     ]
    }
   ],
   "source": [
    "#lets calculate the roc_auc and confusion_matrix for the test data\n",
    "\n",
    "print(roc_auc_score(y_test, log_pred), '\\n')\n",
    "\n",
    "print(confusion_matrix(y_test, log_pred), '\\n')\n",
    "\n",
    "print(classification_report(y_test, log_pred))"
   ]
  },
  {
   "cell_type": "markdown",
   "metadata": {},
   "source": [
    "***This is similar to the predicted results from the naive bayes model, in which ~ 400 - 480 reviews are misclassified. Here there are slightly more false positives ~ 480 than the false negatives ~ 410.***"
   ]
  },
  {
   "cell_type": "code",
   "execution_count": 87,
   "metadata": {},
   "outputs": [
    {
     "data": {
      "image/png": "[encoded data removed]",
      "text/plain": [
       "<Figure size 1008x576 with 1 Axes>"
      ]
     },
     "metadata": {},
     "output_type": "display_data"
    }
   ],
   "source": [
    "#lets visualize the roc_curve for the naive bayes\n",
    "\n",
    "get_roc_curve(grid_log.best_estimator_, x_test, y_test)"
   ]
  },
  {
   "cell_type": "markdown",
   "metadata": {},
   "source": [
    "### The plot above shows that our model performed well on the data, even though it still misclassified over 400 reviews."
   ]
  },
  {
   "cell_type": "code",
   "execution_count": null,
   "metadata": {},
   "outputs": [],
   "source": []
  },
  {
   "cell_type": "code",
   "execution_count": 88,
   "metadata": {},
   "outputs": [],
   "source": [
    "#widen the column display\n",
    "\n",
    "pd.set_option('display.max_colwidth', 800)"
   ]
  },
  {
   "cell_type": "code",
   "execution_count": 90,
   "metadata": {},
   "outputs": [
    {
     "data": {
      "text/plain": [
       "44153                                                                   feels like a landline i have had 5 galaxy s5s in the past without any issues this phone only holds a charge for two hours sometimes i can get three hours if i do not use it at all it feels like a landline as it needs to be plugged in and recharging most of the day\n",
       "82258                                                                                                                                                                                           how  come with spanish, which i totally can't understandhow am i supposed to do all the settings with a language that i totally don't understand\n",
       "82401                                                                  the important thing to know is this fone is 64 inches and its very lightweight easy to use what i like is the whole phone but one thing it doest have a fingerprint reader but its fine  the price is cheaper but its samsung so im confident that it will meet my expect\n",
       "80176                                                                                                                                                               a10 deberia incluir protector de pantalla y un forro, el telefono no es de buena calidad muy poco resistente, se me callo con solo una semana de comprado y se daño totalmet\n",
       "81904    nice looking phone but  i bought this phone from other vendor it look nice and slick it's faster than my nexus old 5x i dropped my 5x many times, and it still works i'm afraid to drop this phone pixel 3a is not water resistant at all so be very careful got my wet and it's stop working any water damage is not cover by warranti\n",
       "Name: full_review, dtype: object"
      ]
     },
     "execution_count": 90,
     "metadata": {},
     "output_type": "execute_result"
    }
   ],
   "source": [
    "#let check some of the incorrectly classified reviews from the logistic regession models\n",
    "#let check the five random FALSE POSITIVES\n",
    "\n",
    "x_test[(log_pred ==1) & (y_test == 0)].sample(5)"
   ]
  },
  {
   "cell_type": "markdown",
   "metadata": {},
   "source": [
    "**Notice that the false positives are actually mix reactions between the phone been good and then something else about the phone is not working or defect. Also, there is a spanish comment which the model may not know where exactly it belongs to**"
   ]
  },
  {
   "cell_type": "code",
   "execution_count": 92,
   "metadata": {},
   "outputs": [
    {
     "data": {
      "text/plain": [
       "31174                                                                                                                                                                                                                      maybe unlocked wasn't the best idea the phone is in great shape, but i'm not in love with the whole idea of an unlocked phone i received what was once a verizon phone, and i'm using it with att service i was able to make calls and send texts immediately after inserting my sim card, but i cannot send or receive multimedia messages also, when ever i call my voicemail i'm prompted to make a payment checked my att account and nothing is due not sure if this is a service issue, or just something that happens with unlocked phones i really just don't want to deal with att to sort stuff out\n",
       "78729                                                                                                                                                                                                                                                                                                                                                                                                                                                                                                                                                                                                                                                                                                                                                                                les falto poner los audífonos no venía con audífono\n",
       "61772                                                                                                                                                                                                                                                                                                                                                                                                                                                if it charges slow make sure you're using a 20amp charge brick or higher and a good chord every complain i read about this phone seems to just be wrong bad service without wifi false, get a better carrier battery life is better than my iphone 7plus, screen quality is clear as day all in all for 250 bucks this phone is great try it for yourself, you can always return it\n",
       "52359                                                                                                                                                                                                                                                                                                                                                                                                                                                                                                                                                                                                                                   make sure you bring your charger everywhere the battery life is absolutely terrible this is my first iphone so i’m not sure if they all suck but yeah i have to charge it at least 3 times a day\n",
       "82667    sorry my new note 10+ arrived tuesday morning having owned the note 1, note 2, note 4, note 7 for a few hours before it was recalled, and the note 8, i had more than a few expectations after 6 days of ownership, i can honestly say every expectation was meet or exceeded battery life unbelievable screen excellent included software, great have used it on both verizon  att with no problems not expecting any problems in europe in a few weeks, in multiple countries, with 2 more service provider's sims with 512gb built in, and my installed 512gb micro sd card, i can carry with me every document, every picture, every video that i want to not only for areas without or high priced wi-fi, but also as a secure backup for my small business files so why am i sorry i am sorry for the external battery...\n",
       "Name: full_review, dtype: object"
      ]
     },
     "execution_count": 92,
     "metadata": {},
     "output_type": "execute_result"
    }
   ],
   "source": [
    "#let check the five random FALSE NEGATIVES\n",
    "\n",
    "x_test[(log_pred ==0) & (y_test == 1)].sample(5)"
   ]
  },
  {
   "cell_type": "markdown",
   "metadata": {},
   "source": [
    "**Notice that some of the false negatives are actually negative and some are mix reactions.**\n"
   ]
  },
  {
   "cell_type": "markdown",
   "metadata": {},
   "source": [
    "## Summary\n",
    "\n",
    "**Using the star rating to predict customer's sentiment may be good in some cases if the customer's review tallies with the star score and sometimes it may be misleading also, if the customers has mix reactions / feelings regarding the phone he or she bought; But Overall, using the ratings is a good starting point to understand customers perception about the phone**"
   ]
  },
  {
   "cell_type": "code",
   "execution_count": null,
   "metadata": {},
   "outputs": [],
   "source": []
  },
  {
   "cell_type": "code",
   "execution_count": null,
   "metadata": {},
   "outputs": [],
   "source": []
  }
 ],
 "metadata": {
  "kernelspec": {
   "display_name": "Python 3",
   "language": "python",
   "name": "python3"
  },
  "language_info": {
   "codemirror_mode": {
    "name": "ipython",
    "version": 3
   },
   "file_extension": ".py",
   "mimetype": "text/x-python",
   "name": "python",
   "nbconvert_exporter": "python",
   "pygments_lexer": "ipython3",
   "version": "3.7.3"
  }
 },
 "nbformat": 4,
 "nbformat_minor": 2
}
